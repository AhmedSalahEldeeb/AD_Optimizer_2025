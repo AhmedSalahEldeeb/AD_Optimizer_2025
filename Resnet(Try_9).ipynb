{
  "cells": [
    {
      "cell_type": "code",
      "execution_count": null,
      "metadata": {
        "id": "7Tytk0tRvBde"
      },
      "outputs": [],
      "source": [
        "#! kaggle datasets download uraninjo/augmented-alzheimer-mri-datasetm\n",
        "\n",
        "###https://www.kaggle.com/datasets/uraninjo/augmented-alzheimer-mri-dataset-v2"
      ]
    },
    {
      "cell_type": "markdown",
      "metadata": {
        "id": "4gJayACEbvJI"
      },
      "source": [
        "**In this NoteBook**, a convolutional neural network (CNN)-based Alzheimer MRI images classification algorithm is developed using **ResNet152V2** architecture, to detect **\"Mild Demented\"**, **\"Moderate Demented\"**, **\"Non Demented\"** and **\"Very Mild Demented\"** in patient's MRI."
      ]
    },
    {
      "cell_type": "code",
      "execution_count": null,
      "metadata": {
        "id": "zb1f6lLqcAIH"
      },
      "outputs": [],
      "source": [
        "import os\n",
        "import numpy as np\n",
        "import pandas as pd\n",
        "from mpl_toolkits.axes_grid1 import ImageGrid\n",
        "import matplotlib.pyplot as plt\n",
        "#from keras.utils.vis_utils import plot_model\n",
        "from tensorflow.keras.preprocessing import image\n",
        "import tensorflow as tf\n",
        "from tensorflow.keras import applications\n",
        "from PIL import Image\n",
        "from tensorflow.keras.preprocessing.image import  ImageDataGenerator\n",
        "from sklearn.metrics import classification_report\n",
        "from sklearn.model_selection import train_test_split\n",
        "import seaborn as sns\n",
        "from sklearn.metrics import confusion_matrix, classification_report, roc_curve, auc\n",
        "from tensorflow.keras.layers import Dense, GlobalAveragePooling2D\n",
        "from tensorflow.keras.layers import Dropout\n",
        "from tensorflow.keras.models import Model\n",
        "from tensorflow.keras.callbacks import ModelCheckpoint, EarlyStopping, ReduceLROnPlateau"
      ]
    },
    {
      "cell_type": "code",
      "execution_count": null,
      "metadata": {
        "colab": {
          "base_uri": "https://localhost:8080/"
        },
        "id": "Rb4qKqZMpagI",
        "outputId": "0bc11e45-2f31-4c32-c6b0-7abbde4b41f0"
      },
      "outputs": [
        {
          "output_type": "stream",
          "name": "stdout",
          "text": [
            "Mounted at /content/drive\n"
          ]
        }
      ],
      "source": [
        "from google.colab import drive\n",
        "drive.mount('/content/drive')"
      ]
    },
    {
      "cell_type": "code",
      "execution_count": null,
      "metadata": {
        "colab": {
          "base_uri": "https://localhost:8080/"
        },
        "id": "n2MseXgCcLg_",
        "outputId": "a948614b-72c9-4c98-8441-737037cc8b0b"
      },
      "outputs": [
        {
          "output_type": "stream",
          "name": "stdout",
          "text": [
            "--2024-11-15 14:26:04--  https://raw.githubusercontent.com/mrdbourke/tensorflow-deep-learning/main/extras/helper_functions.py\n",
            "Resolving raw.githubusercontent.com (raw.githubusercontent.com)... 185.199.110.133, 185.199.111.133, 185.199.108.133, ...\n",
            "Connecting to raw.githubusercontent.com (raw.githubusercontent.com)|185.199.110.133|:443... connected.\n",
            "HTTP request sent, awaiting response... 200 OK\n",
            "Length: 10246 (10K) [text/plain]\n",
            "Saving to: ‘helper_functions.py’\n",
            "\n",
            "helper_functions.py 100%[===================>]  10.01K  --.-KB/s    in 0s      \n",
            "\n",
            "2024-11-15 14:26:04 (89.3 MB/s) - ‘helper_functions.py’ saved [10246/10246]\n",
            "\n"
          ]
        }
      ],
      "source": [
        "!wget https://raw.githubusercontent.com/mrdbourke/tensorflow-deep-learning/main/extras/helper_functions.py\n",
        "\n",
        "from helper_functions import plot_loss_curves"
      ]
    },
    {
      "cell_type": "markdown",
      "metadata": {
        "id": "Tc2cMThAcWwn"
      },
      "source": [
        "#  Uploading the Data"
      ]
    },
    {
      "cell_type": "code",
      "execution_count": null,
      "metadata": {
        "colab": {
          "base_uri": "https://localhost:8080/"
        },
        "id": "e0fR2-qNcdM3",
        "outputId": "80ead620-8171-4b7d-9236-95d392e3479b"
      },
      "outputs": [
        {
          "output_type": "stream",
          "name": "stdout",
          "text": [
            "Collecting split-folders\n",
            "  Downloading split_folders-0.5.1-py3-none-any.whl.metadata (6.2 kB)\n",
            "Downloading split_folders-0.5.1-py3-none-any.whl (8.4 kB)\n",
            "Installing collected packages: split-folders\n",
            "Successfully installed split-folders-0.5.1\n"
          ]
        },
        {
          "output_type": "stream",
          "name": "stderr",
          "text": [
            "Copying files: 34004 files [16:44, 33.87 files/s] \n"
          ]
        }
      ],
      "source": [
        "########### splitting data ############\n",
        "%pip install split-folders\n",
        "import splitfolders\n",
        "splitfolders.ratio('..///content/drive/MyDrive/ResnetDataset/AugmentedDataSet', output=\"input\", seed=1345, ratio=(0.7,0.3,0))\n",
        "\n",
        "SAMPLE_PER_CATEGORY = 200\n",
        "SEED = 42\n",
        "WIDTH = 128\n",
        "HEIGHT = 128\n",
        "DEPTH = 3\n",
        "INPUT_SHAPE = (WIDTH, HEIGHT, DEPTH)\n",
        "data_dir = '..///content/input'\n",
        "train_dir = os.path.join(data_dir, 'train')\n",
        "test_dir = os.path.join(data_dir, 'val')"
      ]
    },
    {
      "cell_type": "markdown",
      "metadata": {
        "id": "r1p88-RPmR2h"
      },
      "source": [
        "**Mathematical model for Hyper param tuning**"
      ]
    },
    {
      "cell_type": "code",
      "execution_count": null,
      "metadata": {
        "colab": {
          "base_uri": "https://localhost:8080/"
        },
        "id": "j8EhIoerp36H",
        "outputId": "d392ea70-79f4-4ae3-ce79-b36dda6c5e7f"
      },
      "outputs": [
        {
          "output_type": "stream",
          "name": "stdout",
          "text": [
            "Optimized Parameters:\n",
            "Number of Epochs: 50\n",
            "Batch Size: 32\n",
            "Dropout Factor: 0.20\n"
          ]
        }
      ],
      "source": [
        "import numpy as np\n",
        "from scipy.optimize import minimize\n",
        "# Objective Function\n",
        "def objective_function(params, target_accuracy):\n",
        "    epochs, batch_size, dropout_factor = params\n",
        "    return -target_accuracy / (epochs * batch_size * (1 - dropout_factor))\n",
        "# Example optimization\n",
        "def optimize_params(target_accuracy, input_size):\n",
        "    # Bounds for each parameter: (epochs, batch_size, dropout_factor)\n",
        "    bounds = [(1, 100), (1, 128), (0.0, 0.99)]\n",
        "    # Initial guess for the parameters: (epochs, batch_size, dropout_factor)\n",
        "    initial_guess = [50,32, 0.2]\n",
        "    # Perform optimization using scipy's minimize function\n",
        "    result = minimize(objective_function, initial_guess, args=(target_accuracy,),\n",
        "                      bounds=bounds, method='SLSQP')\n",
        "    # Get the optimized parameters\n",
        "    epochs, batch_size, dropout_factor = result.x\n",
        "\n",
        "    return epochs, batch_size, dropout_factor\n",
        "if __name__ == \"__main__\":\n",
        "    # Example input size and target accuracy\n",
        "    input_size = 34000\n",
        "    target_accuracy = 0.98\n",
        "    # Optimize parameters\n",
        "    epochs, batch_size, dropout_factor = optimize_params(target_accuracy, input_size)\n",
        "    print(\"Optimized Parameters:\")\n",
        "    print(f\"Number of Epochs: {int(epochs)}\")\n",
        "    print(f\"Batch Size: {int(batch_size)}\")\n",
        "    print(f\"Dropout Factor: {dropout_factor:.2f}\")\n"
      ]
    },
    {
      "cell_type": "markdown",
      "metadata": {
        "id": "7ldy0NYdcw3O"
      },
      "source": [
        "# Defining Categories"
      ]
    },
    {
      "cell_type": "code",
      "execution_count": null,
      "metadata": {
        "id": "w4tzRs3rDgfj"
      },
      "outputs": [],
      "source": []
    },
    {
      "cell_type": "code",
      "execution_count": null,
      "metadata": {
        "colab": {
          "base_uri": "https://localhost:8080/"
        },
        "id": "FFKCfvtPc0KQ",
        "outputId": "55c18cbf-a79f-493f-eb51-2ce4cd71bdba"
      },
      "outputs": [
        {
          "output_type": "execute_result",
          "data": {
            "text/plain": [
              "4"
            ]
          },
          "metadata": {},
          "execution_count": 11
        }
      ],
      "source": [
        "CATEGORIES = ['MildDemented', 'ModerateDemented', 'NonDemented', 'VeryMildDemented']\n",
        "NUM_CATEGORIES = len(CATEGORIES)\n",
        "NUM_CATEGORIES"
      ]
    },
    {
      "cell_type": "markdown",
      "metadata": {
        "id": "MKLMnFegc8Gj"
      },
      "source": [
        "### Calculating the number of images in each category in training data"
      ]
    },
    {
      "cell_type": "code",
      "execution_count": null,
      "metadata": {
        "colab": {
          "base_uri": "https://localhost:8080/"
        },
        "id": "9dupXKKcc5NF",
        "outputId": "b28b09af-aede-4688-824a-7cdd9dc8ec9f"
      },
      "outputs": [
        {
          "output_type": "stream",
          "name": "stdout",
          "text": [
            "MildDemented 6286 images\n",
            "ModerateDemented 4524 images\n",
            "NonDemented 6720 images\n",
            "VeryMildDemented 6272 images\n"
          ]
        }
      ],
      "source": [
        "for category in CATEGORIES:\n",
        "  print('{} {} images'.format(category, len(os.listdir(os.path.join(train_dir, category)))))"
      ]
    },
    {
      "cell_type": "markdown",
      "metadata": {
        "id": "MIR0yA_GeqlR"
      },
      "source": [
        "# Creating Train and Validation DataFrame"
      ]
    },
    {
      "cell_type": "code",
      "execution_count": null,
      "metadata": {
        "colab": {
          "base_uri": "https://localhost:8080/"
        },
        "id": "P8y1lW8KetAe",
        "outputId": "c420d802-59dc-470a-d219-fcd12b97ab7c"
      },
      "outputs": [
        {
          "output_type": "execute_result",
          "data": {
            "text/plain": [
              "(23802, 3)"
            ]
          },
          "metadata": {},
          "execution_count": 13
        }
      ],
      "source": [
        "train = []\n",
        "for category_id, category in enumerate(CATEGORIES):\n",
        "    for file in os.listdir(os.path.join(train_dir, category)):\n",
        "        train.append(['train/{}/{}'.format(category, file), category_id, category])\n",
        "train = pd.DataFrame(train, columns=['file', 'category_id', 'category'])\n",
        "train.shape"
      ]
    },
    {
      "cell_type": "code",
      "execution_count": null,
      "metadata": {
        "id": "rkYL8g_6ezH5"
      },
      "outputs": [],
      "source": [
        "train = train.sample(frac=1)\n",
        "X = train.drop(columns = 'category_id')\n",
        "y = train['category_id']"
      ]
    },
    {
      "cell_type": "code",
      "execution_count": null,
      "metadata": {
        "id": "onyTceXqe31D"
      },
      "outputs": [],
      "source": [
        "x_train, x_valid, y_train, y_valid = train_test_split(X, y, test_size=0.30, random_state=4) ###### train size from 0.2 to 0.3"
      ]
    },
    {
      "cell_type": "code",
      "execution_count": null,
      "metadata": {
        "id": "G0M0MlsLe_7R"
      },
      "outputs": [],
      "source": [
        "train = pd.concat([x_train, y_train], axis=1)\n",
        "validation = pd.concat([x_valid, y_valid], axis=1)"
      ]
    },
    {
      "cell_type": "code",
      "execution_count": null,
      "metadata": {
        "colab": {
          "base_uri": "https://localhost:8080/"
        },
        "id": "vLX6w0_7fEGr",
        "outputId": "25c04fb5-f9c0-4b9b-f748-4fdcc37a3b9a"
      },
      "outputs": [
        {
          "output_type": "stream",
          "name": "stdout",
          "text": [
            "(16661, 3)\n",
            "(7141, 3)\n"
          ]
        }
      ],
      "source": [
        "train = train.reset_index()\n",
        "train = train.drop(columns = 'index')\n",
        "validation = validation.reset_index()\n",
        "validation = validation.drop(columns = 'index')\n",
        "print(train.shape)\n",
        "print(validation.shape)"
      ]
    },
    {
      "cell_type": "code",
      "execution_count": null,
      "metadata": {
        "colab": {
          "base_uri": "https://localhost:8080/",
          "height": 206
        },
        "id": "kNMLYtgUfHq-",
        "outputId": "bcbf5953-2101-4026-c402-3b6141fc1c7f"
      },
      "outputs": [
        {
          "output_type": "execute_result",
          "data": {
            "text/plain": [
              "                                                file          category  \\\n",
              "0  train/MildDemented/933cb9da-3f93-45d6-a1ba-718...      MildDemented   \n",
              "1  train/VeryMildDemented/32798d4f-82ec-4db3-a723...  VeryMildDemented   \n",
              "2  train/NonDemented/31a73e8c-2d15-41c9-aa53-5a02...       NonDemented   \n",
              "3  train/VeryMildDemented/7181aa74-44de-4781-b917...  VeryMildDemented   \n",
              "4  train/NonDemented/543d0a64-ef2b-416f-b15d-0976...       NonDemented   \n",
              "\n",
              "   category_id  \n",
              "0            0  \n",
              "1            3  \n",
              "2            2  \n",
              "3            3  \n",
              "4            2  "
            ],
            "text/html": [
              "\n",
              "  <div id=\"df-2ed63c13-d7b5-43ba-abea-f563f1725ae9\" class=\"colab-df-container\">\n",
              "    <div>\n",
              "<style scoped>\n",
              "    .dataframe tbody tr th:only-of-type {\n",
              "        vertical-align: middle;\n",
              "    }\n",
              "\n",
              "    .dataframe tbody tr th {\n",
              "        vertical-align: top;\n",
              "    }\n",
              "\n",
              "    .dataframe thead th {\n",
              "        text-align: right;\n",
              "    }\n",
              "</style>\n",
              "<table border=\"1\" class=\"dataframe\">\n",
              "  <thead>\n",
              "    <tr style=\"text-align: right;\">\n",
              "      <th></th>\n",
              "      <th>file</th>\n",
              "      <th>category</th>\n",
              "      <th>category_id</th>\n",
              "    </tr>\n",
              "  </thead>\n",
              "  <tbody>\n",
              "    <tr>\n",
              "      <th>0</th>\n",
              "      <td>train/MildDemented/933cb9da-3f93-45d6-a1ba-718...</td>\n",
              "      <td>MildDemented</td>\n",
              "      <td>0</td>\n",
              "    </tr>\n",
              "    <tr>\n",
              "      <th>1</th>\n",
              "      <td>train/VeryMildDemented/32798d4f-82ec-4db3-a723...</td>\n",
              "      <td>VeryMildDemented</td>\n",
              "      <td>3</td>\n",
              "    </tr>\n",
              "    <tr>\n",
              "      <th>2</th>\n",
              "      <td>train/NonDemented/31a73e8c-2d15-41c9-aa53-5a02...</td>\n",
              "      <td>NonDemented</td>\n",
              "      <td>2</td>\n",
              "    </tr>\n",
              "    <tr>\n",
              "      <th>3</th>\n",
              "      <td>train/VeryMildDemented/7181aa74-44de-4781-b917...</td>\n",
              "      <td>VeryMildDemented</td>\n",
              "      <td>3</td>\n",
              "    </tr>\n",
              "    <tr>\n",
              "      <th>4</th>\n",
              "      <td>train/NonDemented/543d0a64-ef2b-416f-b15d-0976...</td>\n",
              "      <td>NonDemented</td>\n",
              "      <td>2</td>\n",
              "    </tr>\n",
              "  </tbody>\n",
              "</table>\n",
              "</div>\n",
              "    <div class=\"colab-df-buttons\">\n",
              "\n",
              "  <div class=\"colab-df-container\">\n",
              "    <button class=\"colab-df-convert\" onclick=\"convertToInteractive('df-2ed63c13-d7b5-43ba-abea-f563f1725ae9')\"\n",
              "            title=\"Convert this dataframe to an interactive table.\"\n",
              "            style=\"display:none;\">\n",
              "\n",
              "  <svg xmlns=\"http://www.w3.org/2000/svg\" height=\"24px\" viewBox=\"0 -960 960 960\">\n",
              "    <path d=\"M120-120v-720h720v720H120Zm60-500h600v-160H180v160Zm220 220h160v-160H400v160Zm0 220h160v-160H400v160ZM180-400h160v-160H180v160Zm440 0h160v-160H620v160ZM180-180h160v-160H180v160Zm440 0h160v-160H620v160Z\"/>\n",
              "  </svg>\n",
              "    </button>\n",
              "\n",
              "  <style>\n",
              "    .colab-df-container {\n",
              "      display:flex;\n",
              "      gap: 12px;\n",
              "    }\n",
              "\n",
              "    .colab-df-convert {\n",
              "      background-color: #E8F0FE;\n",
              "      border: none;\n",
              "      border-radius: 50%;\n",
              "      cursor: pointer;\n",
              "      display: none;\n",
              "      fill: #1967D2;\n",
              "      height: 32px;\n",
              "      padding: 0 0 0 0;\n",
              "      width: 32px;\n",
              "    }\n",
              "\n",
              "    .colab-df-convert:hover {\n",
              "      background-color: #E2EBFA;\n",
              "      box-shadow: 0px 1px 2px rgba(60, 64, 67, 0.3), 0px 1px 3px 1px rgba(60, 64, 67, 0.15);\n",
              "      fill: #174EA6;\n",
              "    }\n",
              "\n",
              "    .colab-df-buttons div {\n",
              "      margin-bottom: 4px;\n",
              "    }\n",
              "\n",
              "    [theme=dark] .colab-df-convert {\n",
              "      background-color: #3B4455;\n",
              "      fill: #D2E3FC;\n",
              "    }\n",
              "\n",
              "    [theme=dark] .colab-df-convert:hover {\n",
              "      background-color: #434B5C;\n",
              "      box-shadow: 0px 1px 3px 1px rgba(0, 0, 0, 0.15);\n",
              "      filter: drop-shadow(0px 1px 2px rgba(0, 0, 0, 0.3));\n",
              "      fill: #FFFFFF;\n",
              "    }\n",
              "  </style>\n",
              "\n",
              "    <script>\n",
              "      const buttonEl =\n",
              "        document.querySelector('#df-2ed63c13-d7b5-43ba-abea-f563f1725ae9 button.colab-df-convert');\n",
              "      buttonEl.style.display =\n",
              "        google.colab.kernel.accessAllowed ? 'block' : 'none';\n",
              "\n",
              "      async function convertToInteractive(key) {\n",
              "        const element = document.querySelector('#df-2ed63c13-d7b5-43ba-abea-f563f1725ae9');\n",
              "        const dataTable =\n",
              "          await google.colab.kernel.invokeFunction('convertToInteractive',\n",
              "                                                    [key], {});\n",
              "        if (!dataTable) return;\n",
              "\n",
              "        const docLinkHtml = 'Like what you see? Visit the ' +\n",
              "          '<a target=\"_blank\" href=https://colab.research.google.com/notebooks/data_table.ipynb>data table notebook</a>'\n",
              "          + ' to learn more about interactive tables.';\n",
              "        element.innerHTML = '';\n",
              "        dataTable['output_type'] = 'display_data';\n",
              "        await google.colab.output.renderOutput(dataTable, element);\n",
              "        const docLink = document.createElement('div');\n",
              "        docLink.innerHTML = docLinkHtml;\n",
              "        element.appendChild(docLink);\n",
              "      }\n",
              "    </script>\n",
              "  </div>\n",
              "\n",
              "\n",
              "<div id=\"df-587436b6-eb37-48f5-9dc0-c94b1fc0bfa8\">\n",
              "  <button class=\"colab-df-quickchart\" onclick=\"quickchart('df-587436b6-eb37-48f5-9dc0-c94b1fc0bfa8')\"\n",
              "            title=\"Suggest charts\"\n",
              "            style=\"display:none;\">\n",
              "\n",
              "<svg xmlns=\"http://www.w3.org/2000/svg\" height=\"24px\"viewBox=\"0 0 24 24\"\n",
              "     width=\"24px\">\n",
              "    <g>\n",
              "        <path d=\"M19 3H5c-1.1 0-2 .9-2 2v14c0 1.1.9 2 2 2h14c1.1 0 2-.9 2-2V5c0-1.1-.9-2-2-2zM9 17H7v-7h2v7zm4 0h-2V7h2v10zm4 0h-2v-4h2v4z\"/>\n",
              "    </g>\n",
              "</svg>\n",
              "  </button>\n",
              "\n",
              "<style>\n",
              "  .colab-df-quickchart {\n",
              "      --bg-color: #E8F0FE;\n",
              "      --fill-color: #1967D2;\n",
              "      --hover-bg-color: #E2EBFA;\n",
              "      --hover-fill-color: #174EA6;\n",
              "      --disabled-fill-color: #AAA;\n",
              "      --disabled-bg-color: #DDD;\n",
              "  }\n",
              "\n",
              "  [theme=dark] .colab-df-quickchart {\n",
              "      --bg-color: #3B4455;\n",
              "      --fill-color: #D2E3FC;\n",
              "      --hover-bg-color: #434B5C;\n",
              "      --hover-fill-color: #FFFFFF;\n",
              "      --disabled-bg-color: #3B4455;\n",
              "      --disabled-fill-color: #666;\n",
              "  }\n",
              "\n",
              "  .colab-df-quickchart {\n",
              "    background-color: var(--bg-color);\n",
              "    border: none;\n",
              "    border-radius: 50%;\n",
              "    cursor: pointer;\n",
              "    display: none;\n",
              "    fill: var(--fill-color);\n",
              "    height: 32px;\n",
              "    padding: 0;\n",
              "    width: 32px;\n",
              "  }\n",
              "\n",
              "  .colab-df-quickchart:hover {\n",
              "    background-color: var(--hover-bg-color);\n",
              "    box-shadow: 0 1px 2px rgba(60, 64, 67, 0.3), 0 1px 3px 1px rgba(60, 64, 67, 0.15);\n",
              "    fill: var(--button-hover-fill-color);\n",
              "  }\n",
              "\n",
              "  .colab-df-quickchart-complete:disabled,\n",
              "  .colab-df-quickchart-complete:disabled:hover {\n",
              "    background-color: var(--disabled-bg-color);\n",
              "    fill: var(--disabled-fill-color);\n",
              "    box-shadow: none;\n",
              "  }\n",
              "\n",
              "  .colab-df-spinner {\n",
              "    border: 2px solid var(--fill-color);\n",
              "    border-color: transparent;\n",
              "    border-bottom-color: var(--fill-color);\n",
              "    animation:\n",
              "      spin 1s steps(1) infinite;\n",
              "  }\n",
              "\n",
              "  @keyframes spin {\n",
              "    0% {\n",
              "      border-color: transparent;\n",
              "      border-bottom-color: var(--fill-color);\n",
              "      border-left-color: var(--fill-color);\n",
              "    }\n",
              "    20% {\n",
              "      border-color: transparent;\n",
              "      border-left-color: var(--fill-color);\n",
              "      border-top-color: var(--fill-color);\n",
              "    }\n",
              "    30% {\n",
              "      border-color: transparent;\n",
              "      border-left-color: var(--fill-color);\n",
              "      border-top-color: var(--fill-color);\n",
              "      border-right-color: var(--fill-color);\n",
              "    }\n",
              "    40% {\n",
              "      border-color: transparent;\n",
              "      border-right-color: var(--fill-color);\n",
              "      border-top-color: var(--fill-color);\n",
              "    }\n",
              "    60% {\n",
              "      border-color: transparent;\n",
              "      border-right-color: var(--fill-color);\n",
              "    }\n",
              "    80% {\n",
              "      border-color: transparent;\n",
              "      border-right-color: var(--fill-color);\n",
              "      border-bottom-color: var(--fill-color);\n",
              "    }\n",
              "    90% {\n",
              "      border-color: transparent;\n",
              "      border-bottom-color: var(--fill-color);\n",
              "    }\n",
              "  }\n",
              "</style>\n",
              "\n",
              "  <script>\n",
              "    async function quickchart(key) {\n",
              "      const quickchartButtonEl =\n",
              "        document.querySelector('#' + key + ' button');\n",
              "      quickchartButtonEl.disabled = true;  // To prevent multiple clicks.\n",
              "      quickchartButtonEl.classList.add('colab-df-spinner');\n",
              "      try {\n",
              "        const charts = await google.colab.kernel.invokeFunction(\n",
              "            'suggestCharts', [key], {});\n",
              "      } catch (error) {\n",
              "        console.error('Error during call to suggestCharts:', error);\n",
              "      }\n",
              "      quickchartButtonEl.classList.remove('colab-df-spinner');\n",
              "      quickchartButtonEl.classList.add('colab-df-quickchart-complete');\n",
              "    }\n",
              "    (() => {\n",
              "      let quickchartButtonEl =\n",
              "        document.querySelector('#df-587436b6-eb37-48f5-9dc0-c94b1fc0bfa8 button');\n",
              "      quickchartButtonEl.style.display =\n",
              "        google.colab.kernel.accessAllowed ? 'block' : 'none';\n",
              "    })();\n",
              "  </script>\n",
              "</div>\n",
              "\n",
              "    </div>\n",
              "  </div>\n"
            ],
            "application/vnd.google.colaboratory.intrinsic+json": {
              "type": "dataframe",
              "variable_name": "train",
              "summary": "{\n  \"name\": \"train\",\n  \"rows\": 16661,\n  \"fields\": [\n    {\n      \"column\": \"file\",\n      \"properties\": {\n        \"dtype\": \"string\",\n        \"num_unique_values\": 16661,\n        \"samples\": [\n          \"train/MildDemented/b0f278ba-3107-430f-aa6a-7fffacc320a5.jpg\",\n          \"train/NonDemented/7674c44c-88db-455f-8dc1-931fc517a412.jpg\",\n          \"train/VeryMildDemented/01efaabe-8b72-4e5e-a7fc-e0c75e27f2b6.jpg\"\n        ],\n        \"semantic_type\": \"\",\n        \"description\": \"\"\n      }\n    },\n    {\n      \"column\": \"category\",\n      \"properties\": {\n        \"dtype\": \"category\",\n        \"num_unique_values\": 4,\n        \"samples\": [\n          \"VeryMildDemented\",\n          \"ModerateDemented\",\n          \"MildDemented\"\n        ],\n        \"semantic_type\": \"\",\n        \"description\": \"\"\n      }\n    },\n    {\n      \"column\": \"category_id\",\n      \"properties\": {\n        \"dtype\": \"number\",\n        \"std\": 1,\n        \"min\": 0,\n        \"max\": 3,\n        \"num_unique_values\": 4,\n        \"samples\": [\n          3,\n          1,\n          0\n        ],\n        \"semantic_type\": \"\",\n        \"description\": \"\"\n      }\n    }\n  ]\n}"
            }
          },
          "metadata": {},
          "execution_count": 18
        }
      ],
      "source": [
        "train.head()"
      ]
    },
    {
      "cell_type": "code",
      "execution_count": null,
      "metadata": {
        "colab": {
          "base_uri": "https://localhost:8080/",
          "height": 206
        },
        "id": "WBNTIumjfNIX",
        "outputId": "3586a533-8db0-4485-a128-55951b68e66a"
      },
      "outputs": [
        {
          "output_type": "execute_result",
          "data": {
            "text/plain": [
              "                                                file          category  \\\n",
              "0  train/VeryMildDemented/341e5a5c-9ad4-4731-95f7...  VeryMildDemented   \n",
              "1  train/MildDemented/42bbecfc-e72b-4fcc-8a31-517...      MildDemented   \n",
              "2  train/MildDemented/86a1f608-c22d-404c-9cf1-4df...      MildDemented   \n",
              "3  train/MildDemented/f3146193-08cc-4a2f-979a-2d4...      MildDemented   \n",
              "4  train/NonDemented/6ff05521-c0ce-4da1-8377-abc5...       NonDemented   \n",
              "\n",
              "   category_id  \n",
              "0            3  \n",
              "1            0  \n",
              "2            0  \n",
              "3            0  \n",
              "4            2  "
            ],
            "text/html": [
              "\n",
              "  <div id=\"df-4d5be937-e8f5-49c0-a960-0373047d7d88\" class=\"colab-df-container\">\n",
              "    <div>\n",
              "<style scoped>\n",
              "    .dataframe tbody tr th:only-of-type {\n",
              "        vertical-align: middle;\n",
              "    }\n",
              "\n",
              "    .dataframe tbody tr th {\n",
              "        vertical-align: top;\n",
              "    }\n",
              "\n",
              "    .dataframe thead th {\n",
              "        text-align: right;\n",
              "    }\n",
              "</style>\n",
              "<table border=\"1\" class=\"dataframe\">\n",
              "  <thead>\n",
              "    <tr style=\"text-align: right;\">\n",
              "      <th></th>\n",
              "      <th>file</th>\n",
              "      <th>category</th>\n",
              "      <th>category_id</th>\n",
              "    </tr>\n",
              "  </thead>\n",
              "  <tbody>\n",
              "    <tr>\n",
              "      <th>0</th>\n",
              "      <td>train/VeryMildDemented/341e5a5c-9ad4-4731-95f7...</td>\n",
              "      <td>VeryMildDemented</td>\n",
              "      <td>3</td>\n",
              "    </tr>\n",
              "    <tr>\n",
              "      <th>1</th>\n",
              "      <td>train/MildDemented/42bbecfc-e72b-4fcc-8a31-517...</td>\n",
              "      <td>MildDemented</td>\n",
              "      <td>0</td>\n",
              "    </tr>\n",
              "    <tr>\n",
              "      <th>2</th>\n",
              "      <td>train/MildDemented/86a1f608-c22d-404c-9cf1-4df...</td>\n",
              "      <td>MildDemented</td>\n",
              "      <td>0</td>\n",
              "    </tr>\n",
              "    <tr>\n",
              "      <th>3</th>\n",
              "      <td>train/MildDemented/f3146193-08cc-4a2f-979a-2d4...</td>\n",
              "      <td>MildDemented</td>\n",
              "      <td>0</td>\n",
              "    </tr>\n",
              "    <tr>\n",
              "      <th>4</th>\n",
              "      <td>train/NonDemented/6ff05521-c0ce-4da1-8377-abc5...</td>\n",
              "      <td>NonDemented</td>\n",
              "      <td>2</td>\n",
              "    </tr>\n",
              "  </tbody>\n",
              "</table>\n",
              "</div>\n",
              "    <div class=\"colab-df-buttons\">\n",
              "\n",
              "  <div class=\"colab-df-container\">\n",
              "    <button class=\"colab-df-convert\" onclick=\"convertToInteractive('df-4d5be937-e8f5-49c0-a960-0373047d7d88')\"\n",
              "            title=\"Convert this dataframe to an interactive table.\"\n",
              "            style=\"display:none;\">\n",
              "\n",
              "  <svg xmlns=\"http://www.w3.org/2000/svg\" height=\"24px\" viewBox=\"0 -960 960 960\">\n",
              "    <path d=\"M120-120v-720h720v720H120Zm60-500h600v-160H180v160Zm220 220h160v-160H400v160Zm0 220h160v-160H400v160ZM180-400h160v-160H180v160Zm440 0h160v-160H620v160ZM180-180h160v-160H180v160Zm440 0h160v-160H620v160Z\"/>\n",
              "  </svg>\n",
              "    </button>\n",
              "\n",
              "  <style>\n",
              "    .colab-df-container {\n",
              "      display:flex;\n",
              "      gap: 12px;\n",
              "    }\n",
              "\n",
              "    .colab-df-convert {\n",
              "      background-color: #E8F0FE;\n",
              "      border: none;\n",
              "      border-radius: 50%;\n",
              "      cursor: pointer;\n",
              "      display: none;\n",
              "      fill: #1967D2;\n",
              "      height: 32px;\n",
              "      padding: 0 0 0 0;\n",
              "      width: 32px;\n",
              "    }\n",
              "\n",
              "    .colab-df-convert:hover {\n",
              "      background-color: #E2EBFA;\n",
              "      box-shadow: 0px 1px 2px rgba(60, 64, 67, 0.3), 0px 1px 3px 1px rgba(60, 64, 67, 0.15);\n",
              "      fill: #174EA6;\n",
              "    }\n",
              "\n",
              "    .colab-df-buttons div {\n",
              "      margin-bottom: 4px;\n",
              "    }\n",
              "\n",
              "    [theme=dark] .colab-df-convert {\n",
              "      background-color: #3B4455;\n",
              "      fill: #D2E3FC;\n",
              "    }\n",
              "\n",
              "    [theme=dark] .colab-df-convert:hover {\n",
              "      background-color: #434B5C;\n",
              "      box-shadow: 0px 1px 3px 1px rgba(0, 0, 0, 0.15);\n",
              "      filter: drop-shadow(0px 1px 2px rgba(0, 0, 0, 0.3));\n",
              "      fill: #FFFFFF;\n",
              "    }\n",
              "  </style>\n",
              "\n",
              "    <script>\n",
              "      const buttonEl =\n",
              "        document.querySelector('#df-4d5be937-e8f5-49c0-a960-0373047d7d88 button.colab-df-convert');\n",
              "      buttonEl.style.display =\n",
              "        google.colab.kernel.accessAllowed ? 'block' : 'none';\n",
              "\n",
              "      async function convertToInteractive(key) {\n",
              "        const element = document.querySelector('#df-4d5be937-e8f5-49c0-a960-0373047d7d88');\n",
              "        const dataTable =\n",
              "          await google.colab.kernel.invokeFunction('convertToInteractive',\n",
              "                                                    [key], {});\n",
              "        if (!dataTable) return;\n",
              "\n",
              "        const docLinkHtml = 'Like what you see? Visit the ' +\n",
              "          '<a target=\"_blank\" href=https://colab.research.google.com/notebooks/data_table.ipynb>data table notebook</a>'\n",
              "          + ' to learn more about interactive tables.';\n",
              "        element.innerHTML = '';\n",
              "        dataTable['output_type'] = 'display_data';\n",
              "        await google.colab.output.renderOutput(dataTable, element);\n",
              "        const docLink = document.createElement('div');\n",
              "        docLink.innerHTML = docLinkHtml;\n",
              "        element.appendChild(docLink);\n",
              "      }\n",
              "    </script>\n",
              "  </div>\n",
              "\n",
              "\n",
              "<div id=\"df-122a5e1d-bd1b-4b6e-bb7c-c816aefaffc0\">\n",
              "  <button class=\"colab-df-quickchart\" onclick=\"quickchart('df-122a5e1d-bd1b-4b6e-bb7c-c816aefaffc0')\"\n",
              "            title=\"Suggest charts\"\n",
              "            style=\"display:none;\">\n",
              "\n",
              "<svg xmlns=\"http://www.w3.org/2000/svg\" height=\"24px\"viewBox=\"0 0 24 24\"\n",
              "     width=\"24px\">\n",
              "    <g>\n",
              "        <path d=\"M19 3H5c-1.1 0-2 .9-2 2v14c0 1.1.9 2 2 2h14c1.1 0 2-.9 2-2V5c0-1.1-.9-2-2-2zM9 17H7v-7h2v7zm4 0h-2V7h2v10zm4 0h-2v-4h2v4z\"/>\n",
              "    </g>\n",
              "</svg>\n",
              "  </button>\n",
              "\n",
              "<style>\n",
              "  .colab-df-quickchart {\n",
              "      --bg-color: #E8F0FE;\n",
              "      --fill-color: #1967D2;\n",
              "      --hover-bg-color: #E2EBFA;\n",
              "      --hover-fill-color: #174EA6;\n",
              "      --disabled-fill-color: #AAA;\n",
              "      --disabled-bg-color: #DDD;\n",
              "  }\n",
              "\n",
              "  [theme=dark] .colab-df-quickchart {\n",
              "      --bg-color: #3B4455;\n",
              "      --fill-color: #D2E3FC;\n",
              "      --hover-bg-color: #434B5C;\n",
              "      --hover-fill-color: #FFFFFF;\n",
              "      --disabled-bg-color: #3B4455;\n",
              "      --disabled-fill-color: #666;\n",
              "  }\n",
              "\n",
              "  .colab-df-quickchart {\n",
              "    background-color: var(--bg-color);\n",
              "    border: none;\n",
              "    border-radius: 50%;\n",
              "    cursor: pointer;\n",
              "    display: none;\n",
              "    fill: var(--fill-color);\n",
              "    height: 32px;\n",
              "    padding: 0;\n",
              "    width: 32px;\n",
              "  }\n",
              "\n",
              "  .colab-df-quickchart:hover {\n",
              "    background-color: var(--hover-bg-color);\n",
              "    box-shadow: 0 1px 2px rgba(60, 64, 67, 0.3), 0 1px 3px 1px rgba(60, 64, 67, 0.15);\n",
              "    fill: var(--button-hover-fill-color);\n",
              "  }\n",
              "\n",
              "  .colab-df-quickchart-complete:disabled,\n",
              "  .colab-df-quickchart-complete:disabled:hover {\n",
              "    background-color: var(--disabled-bg-color);\n",
              "    fill: var(--disabled-fill-color);\n",
              "    box-shadow: none;\n",
              "  }\n",
              "\n",
              "  .colab-df-spinner {\n",
              "    border: 2px solid var(--fill-color);\n",
              "    border-color: transparent;\n",
              "    border-bottom-color: var(--fill-color);\n",
              "    animation:\n",
              "      spin 1s steps(1) infinite;\n",
              "  }\n",
              "\n",
              "  @keyframes spin {\n",
              "    0% {\n",
              "      border-color: transparent;\n",
              "      border-bottom-color: var(--fill-color);\n",
              "      border-left-color: var(--fill-color);\n",
              "    }\n",
              "    20% {\n",
              "      border-color: transparent;\n",
              "      border-left-color: var(--fill-color);\n",
              "      border-top-color: var(--fill-color);\n",
              "    }\n",
              "    30% {\n",
              "      border-color: transparent;\n",
              "      border-left-color: var(--fill-color);\n",
              "      border-top-color: var(--fill-color);\n",
              "      border-right-color: var(--fill-color);\n",
              "    }\n",
              "    40% {\n",
              "      border-color: transparent;\n",
              "      border-right-color: var(--fill-color);\n",
              "      border-top-color: var(--fill-color);\n",
              "    }\n",
              "    60% {\n",
              "      border-color: transparent;\n",
              "      border-right-color: var(--fill-color);\n",
              "    }\n",
              "    80% {\n",
              "      border-color: transparent;\n",
              "      border-right-color: var(--fill-color);\n",
              "      border-bottom-color: var(--fill-color);\n",
              "    }\n",
              "    90% {\n",
              "      border-color: transparent;\n",
              "      border-bottom-color: var(--fill-color);\n",
              "    }\n",
              "  }\n",
              "</style>\n",
              "\n",
              "  <script>\n",
              "    async function quickchart(key) {\n",
              "      const quickchartButtonEl =\n",
              "        document.querySelector('#' + key + ' button');\n",
              "      quickchartButtonEl.disabled = true;  // To prevent multiple clicks.\n",
              "      quickchartButtonEl.classList.add('colab-df-spinner');\n",
              "      try {\n",
              "        const charts = await google.colab.kernel.invokeFunction(\n",
              "            'suggestCharts', [key], {});\n",
              "      } catch (error) {\n",
              "        console.error('Error during call to suggestCharts:', error);\n",
              "      }\n",
              "      quickchartButtonEl.classList.remove('colab-df-spinner');\n",
              "      quickchartButtonEl.classList.add('colab-df-quickchart-complete');\n",
              "    }\n",
              "    (() => {\n",
              "      let quickchartButtonEl =\n",
              "        document.querySelector('#df-122a5e1d-bd1b-4b6e-bb7c-c816aefaffc0 button');\n",
              "      quickchartButtonEl.style.display =\n",
              "        google.colab.kernel.accessAllowed ? 'block' : 'none';\n",
              "    })();\n",
              "  </script>\n",
              "</div>\n",
              "\n",
              "    </div>\n",
              "  </div>\n"
            ],
            "application/vnd.google.colaboratory.intrinsic+json": {
              "type": "dataframe",
              "variable_name": "validation",
              "summary": "{\n  \"name\": \"validation\",\n  \"rows\": 7141,\n  \"fields\": [\n    {\n      \"column\": \"file\",\n      \"properties\": {\n        \"dtype\": \"string\",\n        \"num_unique_values\": 7141,\n        \"samples\": [\n          \"train/NonDemented/a57bd269-dbca-4459-9f02-221a1809dd83.jpg\",\n          \"train/ModerateDemented/d219ebb8-2067-43b7-ad82-831cb3ee9306.jpg\",\n          \"train/MildDemented/692b24f2-6724-48c4-bd18-51e7a153f70b.jpg\"\n        ],\n        \"semantic_type\": \"\",\n        \"description\": \"\"\n      }\n    },\n    {\n      \"column\": \"category\",\n      \"properties\": {\n        \"dtype\": \"category\",\n        \"num_unique_values\": 4,\n        \"samples\": [\n          \"MildDemented\",\n          \"ModerateDemented\",\n          \"VeryMildDemented\"\n        ],\n        \"semantic_type\": \"\",\n        \"description\": \"\"\n      }\n    },\n    {\n      \"column\": \"category_id\",\n      \"properties\": {\n        \"dtype\": \"number\",\n        \"std\": 1,\n        \"min\": 0,\n        \"max\": 3,\n        \"num_unique_values\": 4,\n        \"samples\": [\n          0,\n          1,\n          3\n        ],\n        \"semantic_type\": \"\",\n        \"description\": \"\"\n      }\n    }\n  ]\n}"
            }
          },
          "metadata": {},
          "execution_count": 19
        }
      ],
      "source": [
        "validation.head()"
      ]
    },
    {
      "cell_type": "markdown",
      "metadata": {
        "id": "J2x6knaNfUsQ"
      },
      "source": [
        "# Creating Test DataFrame"
      ]
    },
    {
      "cell_type": "code",
      "execution_count": null,
      "metadata": {
        "colab": {
          "base_uri": "https://localhost:8080/"
        },
        "id": "cvjlC8StfQ78",
        "outputId": "85324001-e811-4fda-8dfd-8a2c407854b3"
      },
      "outputs": [
        {
          "output_type": "execute_result",
          "data": {
            "text/plain": [
              "(10201, 3)"
            ]
          },
          "metadata": {},
          "execution_count": 20
        }
      ],
      "source": [
        "test = []\n",
        "for category_id, category in enumerate(CATEGORIES):\n",
        "    for file in os.listdir(os.path.join(test_dir, category)):\n",
        "        test.append(['val/{}/{}'.format(category, file), category_id, category])\n",
        "test = pd.DataFrame(test, columns=['file', 'category_id', 'category'])\n",
        "test.shape"
      ]
    },
    {
      "cell_type": "markdown",
      "metadata": {
        "id": "NPFbrrWAffo9"
      },
      "source": [
        "# Demonstrating Example Images"
      ]
    },
    {
      "cell_type": "code",
      "execution_count": null,
      "metadata": {
        "id": "r0yiUoDafcNT"
      },
      "outputs": [],
      "source": [
        "def read_img(filepath, size):\n",
        "    img = image.load_img(os.path.join(data_dir, filepath), target_size=size)\n",
        "    img = image.img_to_array(img)\n",
        "    return img"
      ]
    },
    {
      "cell_type": "code",
      "execution_count": null,
      "metadata": {
        "colab": {
          "base_uri": "https://localhost:8080/",
          "height": 345
        },
        "id": "vqQknXDYfk9s",
        "outputId": "1d562650-ae01-4549-eeec-0ba9ac88a722"
      },
      "outputs": [
        {
          "output_type": "display_data",
          "data": {
            "text/plain": [
              "<Figure size 400x400 with 32 Axes>"
            ],
            "image/png": "[encoded data removed]"
          },
          "metadata": {}
        }
      ],
      "source": [
        "fig = plt.figure(1, figsize=(NUM_CATEGORIES, NUM_CATEGORIES))\n",
        "grid = ImageGrid(fig, 111, nrows_ncols=(NUM_CATEGORIES, NUM_CATEGORIES), axes_pad=0.05)\n",
        "\n",
        "i=0\n",
        "for category_id, category in enumerate(CATEGORIES):\n",
        "    for filepath in train[train['category'] == category]['file'].values[:NUM_CATEGORIES]:\n",
        "        ax = grid[i]\n",
        "        img = read_img(filepath, (WIDTH, HEIGHT))\n",
        "        ax.imshow(img / 255.)\n",
        "        ax.axis('off')\n",
        "        if i % NUM_CATEGORIES == NUM_CATEGORIES - 1:\n",
        "            ax.text(250, 112, filepath.split('/')[1], verticalalignment='center')\n",
        "        i+=1\n",
        "\n",
        "plt.show();"
      ]
    },
    {
      "cell_type": "markdown",
      "metadata": {
        "id": "Yhg_ra9sfr2m"
      },
      "source": [
        "# Keras ImageDataGenerator"
      ]
    },
    {
      "cell_type": "code",
      "execution_count": null,
      "metadata": {
        "colab": {
          "base_uri": "https://localhost:8080/"
        },
        "id": "x_noA_YEfnsz",
        "outputId": "3993f199-a93e-4175-fac1-d1d7da066e0e"
      },
      "outputs": [
        {
          "output_type": "stream",
          "name": "stdout",
          "text": [
            "Found 16661 validated image filenames belonging to 4 classes.\n",
            "Found 7141 validated image filenames belonging to 4 classes.\n"
          ]
        }
      ],
      "source": [
        "datagen_train = ImageDataGenerator(rescale=1./255)\n",
        "train_generator = datagen_train.flow_from_dataframe(dataframe=train,\n",
        "                                                  directory=\"..///content/input\",\n",
        "                                                  x_col=\"file\",\n",
        "                                                  y_col=\"category\",\n",
        "                                                  batch_size=4, # from 32 to 16\n",
        "                                                  seed=SEED,\n",
        "                                                  shuffle=True,\n",
        "                                                  class_mode=\"categorical\",\n",
        "                                                  target_size=(HEIGHT, WIDTH));\n",
        "\n",
        "validation_generator = datagen_train.flow_from_dataframe(dataframe=validation,\n",
        "                                                  directory=\"..///content/input\",\n",
        "                                                  x_col=\"file\",\n",
        "                                                  y_col=\"category\",\n",
        "                                                  batch_size=4, # from 32 to 16\n",
        "                                                  seed=SEED,\n",
        "                                                  shuffle=True,\n",
        "                                                  class_mode=\"categorical\",\n",
        "                                                  target_size=(HEIGHT, WIDTH));"
      ]
    },
    {
      "cell_type": "code",
      "execution_count": null,
      "metadata": {
        "colab": {
          "base_uri": "https://localhost:8080/"
        },
        "id": "e7-99q9dfyX5",
        "outputId": "74cc2bde-1dce-44bf-e696-3776bfbb9f05"
      },
      "outputs": [
        {
          "output_type": "stream",
          "name": "stdout",
          "text": [
            "Found 10201 validated image filenames belonging to 4 classes.\n"
          ]
        }
      ],
      "source": [
        "datagen_test = ImageDataGenerator(rescale=1./255)\n",
        "test_generator = datagen_test.flow_from_dataframe(dataframe=test,\n",
        "                                                  directory=\"..///content/input\",\n",
        "                                                  x_col=\"file\",\n",
        "                                                  y_col=\"category\",\n",
        "                                                  batch_size=4, # from 32 to 16\n",
        "                                                  seed=SEED,\n",
        "                                                  shuffle=False,\n",
        "                                                  class_mode=\"categorical\",\n",
        "                                                  target_size=(HEIGHT, WIDTH));"
      ]
    },
    {
      "cell_type": "markdown",
      "metadata": {
        "id": "5IBW53shf5e8"
      },
      "source": [
        "## Early Stopping"
      ]
    },
    {
      "cell_type": "code",
      "execution_count": null,
      "metadata": {
        "id": "KiRsiKL_f1yv"
      },
      "outputs": [],
      "source": [
        "#early_stopping = tf.keras.callbacks.EarlyStopping(monitor='val_loss', patience=20)"
      ]
    },
    {
      "cell_type": "markdown",
      "metadata": {
        "id": "eZGt2kI9FmaI"
      },
      "source": [
        "###Creating CallBacks   ===> 8-8-2023"
      ]
    },
    {
      "cell_type": "code",
      "execution_count": null,
      "metadata": {
        "id": "5N0fYTa8Fqpt"
      },
      "outputs": [],
      "source": [
        "# Hyperparameter Tuning ===>   8-8-2023\n",
        "callbacks = [\n",
        "   # ModelCheckpoint('best_model.h5', monitor='val_loss', save_best_only=True),\n",
        "    EarlyStopping(monitor='val_loss', patience=10, restore_best_weights=True),\n",
        "    ReduceLROnPlateau(monitor='val_loss', factor=0.2, patience=3, min_lr=1e-6)\n",
        "]"
      ]
    },
    {
      "cell_type": "markdown",
      "metadata": {
        "id": "HBX27Ko7gF0L"
      },
      "source": [
        "# Creating Model based on ResNet152V2"
      ]
    },
    {
      "cell_type": "code",
      "execution_count": null,
      "metadata": {
        "id": "rRgIUGL4gCLx"
      },
      "outputs": [],
      "source": [
        "def create_model():\n",
        "\n",
        "    resnet_model = tf.keras.applications.resnet_v2.ResNet152V2(\n",
        "        weights='imagenet',\n",
        "        include_top = False,\n",
        "        #input_shape = (224, 224, 3)\n",
        "        input_shape = (128, 128, 3)\n",
        "\n",
        "    )\n",
        "\n",
        "    for layers in resnet_model.layers[:100]:\n",
        "        layers.trainable = False\n",
        "    for layers in resnet_model.layers[100:]:\n",
        "        layers.trainable = True\n",
        "\n",
        "    x = resnet_model.output\n",
        "    x = tf.keras.layers.GlobalAveragePooling2D()(x)\n",
        "\n",
        "    x = tf.keras.layers.Dropout(0.40)(x)  # from 0.2 to 0.48\n",
        "    x = tf.keras.layers.Dense(1024, activation='relu')(x)\n",
        "    x = tf.keras.layers.Dropout(0.40)(x)  # from 0.2 to 0.48\n",
        "    x = tf.keras.layers.Dense(256, activation='relu')(x)\n",
        "    x = tf.keras.layers.Dropout(0.40)(x)  # from 0.2 to 0.48\n",
        "    # output layer\n",
        "    predictions = tf.keras.layers.Dense(4, activation='softmax')(x)\n",
        "\n",
        "    res_model = tf.keras.Model(inputs=resnet_model.input, outputs=predictions)\n",
        "\n",
        "    # Compiling the model\n",
        "    #optimizer = tf.keras.optimizers.Adam()\n",
        "    optimizer = tf.keras.optimizers.SGD(learning_rate=0.01, momentum=0.78)\n",
        "    #optimizer = tf.keras.optimizers.RMSprop()\n",
        "    #res_model.compile(loss='categorical_crossentropy', optimizer='ٌadam', metrics=['accuracy'])\n",
        "    res_model.compile(loss='categorical_crossentropy', optimizer= optimizer, metrics=['accuracy'])\n",
        "    return res_model"
      ]
    },
    {
      "cell_type": "code",
      "execution_count": null,
      "metadata": {
        "colab": {
          "base_uri": "https://localhost:8080/"
        },
        "id": "Eda4UH9CgLSV",
        "outputId": "e0fbabc8-8ef0-430a-9aff-9813dba3a134"
      },
      "outputs": [
        {
          "output_type": "stream",
          "name": "stdout",
          "text": [
            "Downloading data from https://storage.googleapis.com/tensorflow/keras-applications/resnet/resnet152v2_weights_tf_dim_ordering_tf_kernels_notop.h5\n",
            "\u001b[1m234545216/234545216\u001b[0m \u001b[32m━━━━━━━━━━━━━━━━━━━━\u001b[0m\u001b[37m\u001b[0m \u001b[1m3s\u001b[0m 0us/step\n"
          ]
        }
      ],
      "source": [
        "res_model = create_model()"
      ]
    },
    {
      "cell_type": "code",
      "execution_count": null,
      "metadata": {
        "id": "R7onTHCvgWWj"
      },
      "outputs": [],
      "source": [
        "res_model.summary()"
      ]
    },
    {
      "cell_type": "code",
      "execution_count": null,
      "metadata": {
        "id": "HdXohWFuLGSH"
      },
      "outputs": [],
      "source": [
        "# Model Architecture Visualization\n",
        "#tf.keras.utils.plot_model(res_model, to_file='resnet152v2.png', show_shapes=True, show_layer_names=True)"
      ]
    },
    {
      "cell_type": "markdown",
      "metadata": {
        "id": "vgh3KRJ9gfDW"
      },
      "source": [
        "# Training the Model"
      ]
    },
    {
      "cell_type": "code",
      "execution_count": null,
      "metadata": {
        "id": "F8Ni_uCCgZ2a"
      },
      "outputs": [],
      "source": [
        "history = res_model.fit(train_generator,\n",
        "                    #steps_per_epoch=len(train_generator),\n",
        "                    epochs=300,\n",
        "                    validation_data=validation_generator,\n",
        "                    #validation_steps=len(validation_generator),\n",
        "                    callbacks=callbacks,\n",
        "                    batch_size=4,\n",
        "                    verbose=1)"
      ]
    },
    {
      "cell_type": "markdown",
      "metadata": {
        "id": "pu8N1kqMgpuJ"
      },
      "source": [
        "# Plotting the history of model"
      ]
    },
    {
      "cell_type": "code",
      "execution_count": null,
      "metadata": {
        "id": "sxk9c367gl-S"
      },
      "outputs": [],
      "source": [
        "plot_loss_curves(history)"
      ]
    },
    {
      "cell_type": "markdown",
      "metadata": {
        "id": "TkE3-uLFg2_S"
      },
      "source": [
        "# Evaluation"
      ]
    },
    {
      "cell_type": "code",
      "execution_count": null,
      "metadata": {
        "id": "OiHBLvQYgxQh"
      },
      "outputs": [],
      "source": [
        "valid_loss, valid_accuracy = res_model.evaluate(validation_generator)\n",
        "\n",
        "print(f'\\nTrain loss: {valid_loss:.2f}')\n",
        "print(f'Train Accuracy: {valid_accuracy*100:.2f} %')"
      ]
    },
    {
      "cell_type": "code",
      "execution_count": null,
      "metadata": {
        "id": "SGjbW1YahATH"
      },
      "outputs": [],
      "source": [
        "loss, accuracy = res_model.evaluate(test_generator)\n",
        "\n",
        "print(f'\\nTest loss: {loss:.2f} ')\n",
        "print(f'Test Accuracy: {accuracy*100:.2f} %')"
      ]
    },
    {
      "cell_type": "code",
      "execution_count": null,
      "metadata": {
        "id": "7SNHpYFArwkA"
      },
      "outputs": [],
      "source": [
        "loss, accuracy = res_model.evaluate(test_generator)\n",
        "\n",
        "print(f'\\nTest loss: {loss:.2f} ')\n",
        "print(f'Test Accuracy: {accuracy*100:.2f} %')"
      ]
    },
    {
      "cell_type": "code",
      "execution_count": null,
      "metadata": {
        "id": "3foHF0SQhBEs"
      },
      "outputs": [],
      "source": []
    },
    {
      "cell_type": "code",
      "execution_count": null,
      "metadata": {
        "id": "dX7gKbznr6X1"
      },
      "outputs": [],
      "source": [
        "y_predict = res_model.predict(test_generator)\n",
        "prediction = np.argmax(y_predict,axis=1)\n",
        "labels = (train_generator.class_indices)\n",
        "labels = dict((v,k) for k,v in labels.items())\n",
        "prediction = [labels[k] for k in prediction]\n",
        "\n",
        "y_test = list(test.category)\n",
        "\n",
        "report = classification_report(y_test, prediction, output_dict=True)\n",
        "df = pd.DataFrame(report).transpose()\n",
        "df"
      ]
    },
    {
      "cell_type": "markdown",
      "metadata": {
        "id": "Pdf1lAnC6YgN"
      },
      "source": [
        "####Create the Confusion Matrix"
      ]
    },
    {
      "cell_type": "code",
      "execution_count": null,
      "metadata": {
        "id": "Sc2Rnkq26fM6"
      },
      "outputs": [],
      "source": [
        "from sklearn.metrics import confusion_matrix\n",
        "# Set the number of classes for your task\n",
        "num_classes = 4\n",
        "\n",
        "# Generate predictions on the test dataset\n",
        "y_true = test_generator.classes\n",
        "y_pred = res_model.predict(test_generator)\n",
        "\n",
        "# Get predicted classes\n",
        "y_pred_classes = np.argmax(y_pred, axis=1)\n",
        "\n",
        "# Calculate confusion matrix\n",
        "conf_matrix = confusion_matrix(y_true, y_pred_classes)\n",
        "\n",
        "# Print confusion matrix\n",
        "print(\"Confusion Matrix:\")\n",
        "print(conf_matrix)\n",
        "'''\n",
        "# Plot confusion matrix\n",
        "plt.figure(figsize=(6, 4))\n",
        "sns.set(font_scale=1.2)\n",
        "sns.heatmap(conf_matrix, annot=True, fmt=\"d\", cmap=plt.cm.Blues, cbar=False,\n",
        "            annot_kws={\"size\": 15}, linewidths=0.5, square=True,\n",
        "            xticklabels=['MildDemented', 'ModerateDemented', 'NonDemented', 'VeryMildDemented'], yticklabels=['MildDemented', 'ModerateDemented', 'NonDemented', 'VeryMildDemented'])\n",
        "'''\n",
        "# Plot confusion matrix\n",
        "plt.imshow(conf_matrix, cmap=plt.cm.Blues)\n",
        "plt.title(\"Confusion Matrix\")\n",
        "plt.colorbar()\n",
        "plt.xlabel(\"Predicted labels\")\n",
        "plt.ylabel(\"True labels\")\n",
        "plt.show()\n"
      ]
    },
    {
      "cell_type": "code",
      "execution_count": null,
      "metadata": {
        "id": "6pFHwszGxjyR"
      },
      "outputs": [],
      "source": []
    },
    {
      "cell_type": "code",
      "execution_count": null,
      "metadata": {
        "id": "VOZHsns-sLJq"
      },
      "outputs": [],
      "source": [
        "# Evaluate the Model on Test Data   ======>9-8-2023\n",
        "test_loss, test_accuracy = res_model.evaluate(test_generator, steps=len(test_generator))\n",
        "print(\"Test Loss:\", test_loss)\n",
        "#print(\"Test Accuracy:\", test_accuracy)\n",
        "print(f'Test Accuracy:: {test_accuracy*100:.2f} %')\n"
      ]
    },
    {
      "cell_type": "code",
      "execution_count": null,
      "metadata": {
        "id": "_F6hZdbfVf_6"
      },
      "outputs": [],
      "source": []
    },
    {
      "cell_type": "code",
      "execution_count": null,
      "metadata": {
        "id": "MoSoCcMpsbTq"
      },
      "outputs": [],
      "source": [
        "# Evaluate the Model on Train Data   ======>9-8-2023\n",
        "valid_loss, valid_accuracy = res_model.evaluate(validation_generator)\n",
        "\n",
        "print(f'\\nTrain loss: {valid_loss:.2f}')\n",
        "print(f'Train Accuracy: {valid_accuracy*100:.2f} %')"
      ]
    },
    {
      "cell_type": "code",
      "execution_count": null,
      "metadata": {
        "id": "rv1j-o5NxqmO"
      },
      "outputs": [],
      "source": []
    },
    {
      "cell_type": "code",
      "execution_count": null,
      "metadata": {
        "id": "7BWURBJnseyE"
      },
      "outputs": [],
      "source": [
        "# Metrics Visualization    =====>9-8-2023\n",
        "plt.figure(figsize=(12, 6))\n",
        "plt.subplot(1, 2, 1)\n",
        "plt.plot(history.history['accuracy'], label='Training Accuracy')\n",
        "plt.plot(history.history['val_accuracy'], label='Validation Accuracy')\n",
        "plt.xlabel('Epochs')\n",
        "plt.ylabel('Accuracy')\n",
        "plt.title('Training and Validation Accuracy')\n",
        "plt.legend()\n",
        "'''\n",
        "# Compute and Plot ROC Curves\n",
        "y_true = test_generator.classes\n",
        "y_pred = res_model.predict(test_generator)\n",
        "fpr = dict()\n",
        "tpr = dict()\n",
        "roc_auc = dict()\n",
        "for i in range(4):\n",
        "    fpr[i], tpr[i], _ = roc_curve(y_true[:, i], y_pred[:, i])\n",
        "    roc_auc[i] = auc(fpr[i], tpr[i])\n",
        "\n",
        "plt.subplot(1, 2, 2)\n",
        "plt.plot([0, 1], [0, 1], 'k--')\n",
        "for i in range(4):\n",
        "    plt.plot(fpr[i], tpr[i], label=f'Class {i} (AUC = {roc_auc[i]:.2f})')\n",
        "plt.xlabel('False Positive Rate')\n",
        "plt.ylabel('True Positive Rate')\n",
        "plt.title('ROC Curves')\n",
        "plt.legend()\n",
        "\n",
        "plt.tight_layout()\n",
        "plt.show()\n",
        "'''"
      ]
    },
    {
      "cell_type": "code",
      "execution_count": null,
      "metadata": {
        "id": "dPEL81JZhD37"
      },
      "outputs": [],
      "source": [
        "res_model.save('Resnet_model.h5')"
      ]
    },
    {
      "cell_type": "code",
      "execution_count": null,
      "metadata": {
        "id": "sgoERQOxhHG8"
      },
      "outputs": [],
      "source": [
        "!zip -r dowinloadme.zip Resnet_model.h5"
      ]
    }
  ],
  "metadata": {
    "colab": {
      "provenance": [],
      "gpuType": "T4"
    },
    "kernelspec": {
      "display_name": "Python 3",
      "name": "python3"
    },
    "language_info": {
      "name": "python"
    },
    "accelerator": "GPU"
  },
  "nbformat": 4,
  "nbformat_minor": 0
}