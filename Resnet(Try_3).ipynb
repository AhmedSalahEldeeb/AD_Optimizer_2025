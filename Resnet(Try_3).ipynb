{
  "cells": [
    {
      "cell_type": "code",
      "execution_count": null,
      "metadata": {
        "id": "7Tytk0tRvBde"
      },
      "outputs": [],
      "source": [
        "#! kaggle datasets download uraninjo/augmented-alzheimer-mri-datasetm\n",
        "\n",
        "###https://www.kaggle.com/datasets/uraninjo/augmented-alzheimer-mri-dataset-v2"
      ]
    },
    {
      "cell_type": "markdown",
      "metadata": {
        "id": "4gJayACEbvJI"
      },
      "source": [
        "**In this NoteBook**, a convolutional neural network (CNN)-based Alzheimer MRI images classification algorithm is developed using **ResNet152V2** architecture, to detect **\"Mild Demented\"**, **\"Moderate Demented\"**, **\"Non Demented\"** and **\"Very Mild Demented\"** in patient's MRI."
      ]
    },
    {
      "cell_type": "code",
      "execution_count": null,
      "metadata": {
        "id": "zb1f6lLqcAIH"
      },
      "outputs": [],
      "source": [
        "import os\n",
        "import numpy as np\n",
        "import pandas as pd\n",
        "from mpl_toolkits.axes_grid1 import ImageGrid\n",
        "import matplotlib.pyplot as plt\n",
        "#from keras.utils.vis_utils import plot_model\n",
        "from tensorflow.keras.preprocessing import image\n",
        "import tensorflow as tf\n",
        "from tensorflow.keras import applications\n",
        "from PIL import Image\n",
        "from tensorflow.keras.preprocessing.image import  ImageDataGenerator\n",
        "from sklearn.metrics import classification_report\n",
        "from sklearn.model_selection import train_test_split\n",
        "import seaborn as sns\n",
        "from sklearn.metrics import confusion_matrix, classification_report, roc_curve, auc\n",
        "from tensorflow.keras.layers import Dense, GlobalAveragePooling2D\n",
        "from tensorflow.keras.layers import Dropout\n",
        "from tensorflow.keras.models import Model\n",
        "from tensorflow.keras.callbacks import ModelCheckpoint, EarlyStopping, ReduceLROnPlateau"
      ]
    },
    {
      "cell_type": "code",
      "execution_count": null,
      "metadata": {
        "colab": {
          "base_uri": "https://localhost:8080/"
        },
        "id": "Rb4qKqZMpagI",
        "outputId": "e354cace-b2b2-4c02-84d4-c53c3ec6affd"
      },
      "outputs": [
        {
          "output_type": "stream",
          "name": "stdout",
          "text": [
            "Mounted at /content/drive\n"
          ]
        }
      ],
      "source": [
        "from google.colab import drive\n",
        "drive.mount('/content/drive')"
      ]
    },
    {
      "cell_type": "code",
      "execution_count": null,
      "metadata": {
        "colab": {
          "base_uri": "https://localhost:8080/"
        },
        "id": "n2MseXgCcLg_",
        "outputId": "f81d2936-872e-4cdf-9a3e-511cdc7a2b98"
      },
      "outputs": [
        {
          "output_type": "stream",
          "name": "stdout",
          "text": [
            "--2024-11-15 10:22:32--  https://raw.githubusercontent.com/mrdbourke/tensorflow-deep-learning/main/extras/helper_functions.py\n",
            "Resolving raw.githubusercontent.com (raw.githubusercontent.com)... 185.199.108.133, 185.199.109.133, 185.199.110.133, ...\n",
            "Connecting to raw.githubusercontent.com (raw.githubusercontent.com)|185.199.108.133|:443... connected.\n",
            "HTTP request sent, awaiting response... 200 OK\n",
            "Length: 10246 (10K) [text/plain]\n",
            "Saving to: ‘helper_functions.py’\n",
            "\n",
            "\rhelper_functions.py   0%[                    ]       0  --.-KB/s               \rhelper_functions.py 100%[===================>]  10.01K  --.-KB/s    in 0s      \n",
            "\n",
            "2024-11-15 10:22:32 (113 MB/s) - ‘helper_functions.py’ saved [10246/10246]\n",
            "\n"
          ]
        }
      ],
      "source": [
        "!wget https://raw.githubusercontent.com/mrdbourke/tensorflow-deep-learning/main/extras/helper_functions.py\n",
        "\n",
        "from helper_functions import plot_loss_curves"
      ]
    },
    {
      "cell_type": "markdown",
      "metadata": {
        "id": "Tc2cMThAcWwn"
      },
      "source": [
        "#  Uploading the Data"
      ]
    },
    {
      "cell_type": "code",
      "execution_count": null,
      "metadata": {
        "colab": {
          "base_uri": "https://localhost:8080/"
        },
        "id": "e0fR2-qNcdM3",
        "outputId": "0d2e6f37-0b04-4311-c68b-afefea62d9e6"
      },
      "outputs": [
        {
          "output_type": "stream",
          "name": "stdout",
          "text": [
            "Collecting split-folders\n",
            "  Downloading split_folders-0.5.1-py3-none-any.whl.metadata (6.2 kB)\n",
            "Downloading split_folders-0.5.1-py3-none-any.whl (8.4 kB)\n",
            "Installing collected packages: split-folders\n",
            "Successfully installed split-folders-0.5.1\n"
          ]
        },
        {
          "output_type": "stream",
          "name": "stderr",
          "text": [
            "Copying files: 34004 files [22:40, 24.99 files/s] \n"
          ]
        }
      ],
      "source": [
        "########### splitting data ############\n",
        "%pip install split-folders\n",
        "import splitfolders\n",
        "splitfolders.ratio('..///content/drive/MyDrive/ResnetDataset/AugmentedDataSet', output=\"input\", seed=1345, ratio=(0.7,0.3,0))\n",
        "\n",
        "SAMPLE_PER_CATEGORY = 200\n",
        "SEED = 42\n",
        "WIDTH = 128\n",
        "HEIGHT = 128\n",
        "DEPTH = 3\n",
        "INPUT_SHAPE = (WIDTH, HEIGHT, DEPTH)\n",
        "data_dir = '..///content/input'\n",
        "train_dir = os.path.join(data_dir, 'train')\n",
        "test_dir = os.path.join(data_dir, 'val')"
      ]
    },
    {
      "cell_type": "markdown",
      "metadata": {
        "id": "r1p88-RPmR2h"
      },
      "source": [
        "**Mathematical model for Hyper param tuning**"
      ]
    },
    {
      "cell_type": "code",
      "execution_count": null,
      "metadata": {
        "colab": {
          "base_uri": "https://localhost:8080/"
        },
        "id": "j8EhIoerp36H",
        "outputId": "ca917112-39e8-4aa1-c3ad-550b50617d3c"
      },
      "outputs": [
        {
          "output_type": "stream",
          "name": "stdout",
          "text": [
            "Optimized Parameters:\n",
            "Number of Epochs: 50\n",
            "Batch Size: 32\n",
            "Dropout Factor: 0.20\n"
          ]
        }
      ],
      "source": [
        "import numpy as np\n",
        "from scipy.optimize import minimize\n",
        "# Objective Function\n",
        "def objective_function(params, target_accuracy):\n",
        "    epochs, batch_size, dropout_factor = params\n",
        "    return -target_accuracy / (epochs * batch_size * (1 - dropout_factor))\n",
        "# Example optimization\n",
        "def optimize_params(target_accuracy, input_size):\n",
        "    # Bounds for each parameter: (epochs, batch_size, dropout_factor)\n",
        "    bounds = [(1, 100), (1, 128), (0.0, 0.99)]\n",
        "    # Initial guess for the parameters: (epochs, batch_size, dropout_factor)\n",
        "    initial_guess = [50,32, 0.2]\n",
        "    # Perform optimization using scipy's minimize function\n",
        "    result = minimize(objective_function, initial_guess, args=(target_accuracy,),\n",
        "                      bounds=bounds, method='SLSQP')\n",
        "    # Get the optimized parameters\n",
        "    epochs, batch_size, dropout_factor = result.x\n",
        "\n",
        "    return epochs, batch_size, dropout_factor\n",
        "if __name__ == \"__main__\":\n",
        "    # Example input size and target accuracy\n",
        "    input_size = 34000\n",
        "    target_accuracy = 0.98\n",
        "    # Optimize parameters\n",
        "    epochs, batch_size, dropout_factor = optimize_params(target_accuracy, input_size)\n",
        "    print(\"Optimized Parameters:\")\n",
        "    print(f\"Number of Epochs: {int(epochs)}\")\n",
        "    print(f\"Batch Size: {int(batch_size)}\")\n",
        "    print(f\"Dropout Factor: {dropout_factor:.2f}\")\n"
      ]
    },
    {
      "cell_type": "markdown",
      "metadata": {
        "id": "7ldy0NYdcw3O"
      },
      "source": [
        "# Defining Categories"
      ]
    },
    {
      "cell_type": "code",
      "execution_count": null,
      "metadata": {
        "id": "w4tzRs3rDgfj"
      },
      "outputs": [],
      "source": []
    },
    {
      "cell_type": "code",
      "execution_count": null,
      "metadata": {
        "colab": {
          "base_uri": "https://localhost:8080/"
        },
        "id": "FFKCfvtPc0KQ",
        "outputId": "fdc8e1bc-470c-4d1e-ad7d-c3497dce8b0b"
      },
      "outputs": [
        {
          "output_type": "execute_result",
          "data": {
            "text/plain": [
              "4"
            ]
          },
          "metadata": {},
          "execution_count": 7
        }
      ],
      "source": [
        "CATEGORIES = ['MildDemented', 'ModerateDemented', 'NonDemented', 'VeryMildDemented']\n",
        "NUM_CATEGORIES = len(CATEGORIES)\n",
        "NUM_CATEGORIES"
      ]
    },
    {
      "cell_type": "markdown",
      "metadata": {
        "id": "MKLMnFegc8Gj"
      },
      "source": [
        "### Calculating the number of images in each category in training data"
      ]
    },
    {
      "cell_type": "code",
      "execution_count": null,
      "metadata": {
        "colab": {
          "base_uri": "https://localhost:8080/"
        },
        "id": "9dupXKKcc5NF",
        "outputId": "b398900e-6d43-4302-b0a7-62d2086953c2"
      },
      "outputs": [
        {
          "output_type": "stream",
          "name": "stdout",
          "text": [
            "MildDemented 6286 images\n",
            "ModerateDemented 4524 images\n",
            "NonDemented 6720 images\n",
            "VeryMildDemented 6272 images\n"
          ]
        }
      ],
      "source": [
        "for category in CATEGORIES:\n",
        "  print('{} {} images'.format(category, len(os.listdir(os.path.join(train_dir, category)))))"
      ]
    },
    {
      "cell_type": "markdown",
      "metadata": {
        "id": "MIR0yA_GeqlR"
      },
      "source": [
        "# Creating Train and Validation DataFrame"
      ]
    },
    {
      "cell_type": "code",
      "execution_count": null,
      "metadata": {
        "colab": {
          "base_uri": "https://localhost:8080/"
        },
        "id": "P8y1lW8KetAe",
        "outputId": "79219894-227a-4bfc-fdf2-8491320b1b74"
      },
      "outputs": [
        {
          "output_type": "execute_result",
          "data": {
            "text/plain": [
              "(23802, 3)"
            ]
          },
          "metadata": {},
          "execution_count": 9
        }
      ],
      "source": [
        "train = []\n",
        "for category_id, category in enumerate(CATEGORIES):\n",
        "    for file in os.listdir(os.path.join(train_dir, category)):\n",
        "        train.append(['train/{}/{}'.format(category, file), category_id, category])\n",
        "train = pd.DataFrame(train, columns=['file', 'category_id', 'category'])\n",
        "train.shape"
      ]
    },
    {
      "cell_type": "code",
      "execution_count": null,
      "metadata": {
        "id": "rkYL8g_6ezH5"
      },
      "outputs": [],
      "source": [
        "train = train.sample(frac=1)\n",
        "X = train.drop(columns = 'category_id')\n",
        "y = train['category_id']"
      ]
    },
    {
      "cell_type": "code",
      "execution_count": null,
      "metadata": {
        "id": "onyTceXqe31D"
      },
      "outputs": [],
      "source": [
        "x_train, x_valid, y_train, y_valid = train_test_split(X, y, test_size=0.30, random_state=4) ###### train size from 0.2 to 0.3"
      ]
    },
    {
      "cell_type": "code",
      "execution_count": null,
      "metadata": {
        "id": "G0M0MlsLe_7R"
      },
      "outputs": [],
      "source": [
        "train = pd.concat([x_train, y_train], axis=1)\n",
        "validation = pd.concat([x_valid, y_valid], axis=1)"
      ]
    },
    {
      "cell_type": "code",
      "execution_count": null,
      "metadata": {
        "colab": {
          "base_uri": "https://localhost:8080/"
        },
        "id": "vLX6w0_7fEGr",
        "outputId": "67a76f94-eb15-4912-dd5f-bca67446b4c2"
      },
      "outputs": [
        {
          "output_type": "stream",
          "name": "stdout",
          "text": [
            "(16661, 3)\n",
            "(7141, 3)\n"
          ]
        }
      ],
      "source": [
        "train = train.reset_index()\n",
        "train = train.drop(columns = 'index')\n",
        "validation = validation.reset_index()\n",
        "validation = validation.drop(columns = 'index')\n",
        "print(train.shape)\n",
        "print(validation.shape)"
      ]
    },
    {
      "cell_type": "code",
      "execution_count": null,
      "metadata": {
        "colab": {
          "base_uri": "https://localhost:8080/",
          "height": 206
        },
        "id": "kNMLYtgUfHq-",
        "outputId": "478a0d14-ae82-4554-cc02-514e764cfc95"
      },
      "outputs": [
        {
          "output_type": "execute_result",
          "data": {
            "text/plain": [
              "                                                file          category  \\\n",
              "0  train/NonDemented/c5504418-c884-44d3-afd9-e03e...       NonDemented   \n",
              "1  train/ModerateDemented/d90e030a-dfeb-47aa-b483...  ModerateDemented   \n",
              "2  train/MildDemented/6084afab-2f2a-4bc7-903d-53b...      MildDemented   \n",
              "3  train/VeryMildDemented/f9916667-1ed4-464b-bb10...  VeryMildDemented   \n",
              "4  train/VeryMildDemented/f9926ee8-a354-4b80-9d7f...  VeryMildDemented   \n",
              "\n",
              "   category_id  \n",
              "0            2  \n",
              "1            1  \n",
              "2            0  \n",
              "3            3  \n",
              "4            3  "
            ],
            "text/html": [
              "\n",
              "  <div id=\"df-3b1ca84b-4fa8-4b87-a920-e1da17c62ed0\" class=\"colab-df-container\">\n",
              "    <div>\n",
              "<style scoped>\n",
              "    .dataframe tbody tr th:only-of-type {\n",
              "        vertical-align: middle;\n",
              "    }\n",
              "\n",
              "    .dataframe tbody tr th {\n",
              "        vertical-align: top;\n",
              "    }\n",
              "\n",
              "    .dataframe thead th {\n",
              "        text-align: right;\n",
              "    }\n",
              "</style>\n",
              "<table border=\"1\" class=\"dataframe\">\n",
              "  <thead>\n",
              "    <tr style=\"text-align: right;\">\n",
              "      <th></th>\n",
              "      <th>file</th>\n",
              "      <th>category</th>\n",
              "      <th>category_id</th>\n",
              "    </tr>\n",
              "  </thead>\n",
              "  <tbody>\n",
              "    <tr>\n",
              "      <th>0</th>\n",
              "      <td>train/NonDemented/c5504418-c884-44d3-afd9-e03e...</td>\n",
              "      <td>NonDemented</td>\n",
              "      <td>2</td>\n",
              "    </tr>\n",
              "    <tr>\n",
              "      <th>1</th>\n",
              "      <td>train/ModerateDemented/d90e030a-dfeb-47aa-b483...</td>\n",
              "      <td>ModerateDemented</td>\n",
              "      <td>1</td>\n",
              "    </tr>\n",
              "    <tr>\n",
              "      <th>2</th>\n",
              "      <td>train/MildDemented/6084afab-2f2a-4bc7-903d-53b...</td>\n",
              "      <td>MildDemented</td>\n",
              "      <td>0</td>\n",
              "    </tr>\n",
              "    <tr>\n",
              "      <th>3</th>\n",
              "      <td>train/VeryMildDemented/f9916667-1ed4-464b-bb10...</td>\n",
              "      <td>VeryMildDemented</td>\n",
              "      <td>3</td>\n",
              "    </tr>\n",
              "    <tr>\n",
              "      <th>4</th>\n",
              "      <td>train/VeryMildDemented/f9926ee8-a354-4b80-9d7f...</td>\n",
              "      <td>VeryMildDemented</td>\n",
              "      <td>3</td>\n",
              "    </tr>\n",
              "  </tbody>\n",
              "</table>\n",
              "</div>\n",
              "    <div class=\"colab-df-buttons\">\n",
              "\n",
              "  <div class=\"colab-df-container\">\n",
              "    <button class=\"colab-df-convert\" onclick=\"convertToInteractive('df-3b1ca84b-4fa8-4b87-a920-e1da17c62ed0')\"\n",
              "            title=\"Convert this dataframe to an interactive table.\"\n",
              "            style=\"display:none;\">\n",
              "\n",
              "  <svg xmlns=\"http://www.w3.org/2000/svg\" height=\"24px\" viewBox=\"0 -960 960 960\">\n",
              "    <path d=\"M120-120v-720h720v720H120Zm60-500h600v-160H180v160Zm220 220h160v-160H400v160Zm0 220h160v-160H400v160ZM180-400h160v-160H180v160Zm440 0h160v-160H620v160ZM180-180h160v-160H180v160Zm440 0h160v-160H620v160Z\"/>\n",
              "  </svg>\n",
              "    </button>\n",
              "\n",
              "  <style>\n",
              "    .colab-df-container {\n",
              "      display:flex;\n",
              "      gap: 12px;\n",
              "    }\n",
              "\n",
              "    .colab-df-convert {\n",
              "      background-color: #E8F0FE;\n",
              "      border: none;\n",
              "      border-radius: 50%;\n",
              "      cursor: pointer;\n",
              "      display: none;\n",
              "      fill: #1967D2;\n",
              "      height: 32px;\n",
              "      padding: 0 0 0 0;\n",
              "      width: 32px;\n",
              "    }\n",
              "\n",
              "    .colab-df-convert:hover {\n",
              "      background-color: #E2EBFA;\n",
              "      box-shadow: 0px 1px 2px rgba(60, 64, 67, 0.3), 0px 1px 3px 1px rgba(60, 64, 67, 0.15);\n",
              "      fill: #174EA6;\n",
              "    }\n",
              "\n",
              "    .colab-df-buttons div {\n",
              "      margin-bottom: 4px;\n",
              "    }\n",
              "\n",
              "    [theme=dark] .colab-df-convert {\n",
              "      background-color: #3B4455;\n",
              "      fill: #D2E3FC;\n",
              "    }\n",
              "\n",
              "    [theme=dark] .colab-df-convert:hover {\n",
              "      background-color: #434B5C;\n",
              "      box-shadow: 0px 1px 3px 1px rgba(0, 0, 0, 0.15);\n",
              "      filter: drop-shadow(0px 1px 2px rgba(0, 0, 0, 0.3));\n",
              "      fill: #FFFFFF;\n",
              "    }\n",
              "  </style>\n",
              "\n",
              "    <script>\n",
              "      const buttonEl =\n",
              "        document.querySelector('#df-3b1ca84b-4fa8-4b87-a920-e1da17c62ed0 button.colab-df-convert');\n",
              "      buttonEl.style.display =\n",
              "        google.colab.kernel.accessAllowed ? 'block' : 'none';\n",
              "\n",
              "      async function convertToInteractive(key) {\n",
              "        const element = document.querySelector('#df-3b1ca84b-4fa8-4b87-a920-e1da17c62ed0');\n",
              "        const dataTable =\n",
              "          await google.colab.kernel.invokeFunction('convertToInteractive',\n",
              "                                                    [key], {});\n",
              "        if (!dataTable) return;\n",
              "\n",
              "        const docLinkHtml = 'Like what you see? Visit the ' +\n",
              "          '<a target=\"_blank\" href=https://colab.research.google.com/notebooks/data_table.ipynb>data table notebook</a>'\n",
              "          + ' to learn more about interactive tables.';\n",
              "        element.innerHTML = '';\n",
              "        dataTable['output_type'] = 'display_data';\n",
              "        await google.colab.output.renderOutput(dataTable, element);\n",
              "        const docLink = document.createElement('div');\n",
              "        docLink.innerHTML = docLinkHtml;\n",
              "        element.appendChild(docLink);\n",
              "      }\n",
              "    </script>\n",
              "  </div>\n",
              "\n",
              "\n",
              "<div id=\"df-3cbe0bd6-2f84-4204-b465-ca0afcada101\">\n",
              "  <button class=\"colab-df-quickchart\" onclick=\"quickchart('df-3cbe0bd6-2f84-4204-b465-ca0afcada101')\"\n",
              "            title=\"Suggest charts\"\n",
              "            style=\"display:none;\">\n",
              "\n",
              "<svg xmlns=\"http://www.w3.org/2000/svg\" height=\"24px\"viewBox=\"0 0 24 24\"\n",
              "     width=\"24px\">\n",
              "    <g>\n",
              "        <path d=\"M19 3H5c-1.1 0-2 .9-2 2v14c0 1.1.9 2 2 2h14c1.1 0 2-.9 2-2V5c0-1.1-.9-2-2-2zM9 17H7v-7h2v7zm4 0h-2V7h2v10zm4 0h-2v-4h2v4z\"/>\n",
              "    </g>\n",
              "</svg>\n",
              "  </button>\n",
              "\n",
              "<style>\n",
              "  .colab-df-quickchart {\n",
              "      --bg-color: #E8F0FE;\n",
              "      --fill-color: #1967D2;\n",
              "      --hover-bg-color: #E2EBFA;\n",
              "      --hover-fill-color: #174EA6;\n",
              "      --disabled-fill-color: #AAA;\n",
              "      --disabled-bg-color: #DDD;\n",
              "  }\n",
              "\n",
              "  [theme=dark] .colab-df-quickchart {\n",
              "      --bg-color: #3B4455;\n",
              "      --fill-color: #D2E3FC;\n",
              "      --hover-bg-color: #434B5C;\n",
              "      --hover-fill-color: #FFFFFF;\n",
              "      --disabled-bg-color: #3B4455;\n",
              "      --disabled-fill-color: #666;\n",
              "  }\n",
              "\n",
              "  .colab-df-quickchart {\n",
              "    background-color: var(--bg-color);\n",
              "    border: none;\n",
              "    border-radius: 50%;\n",
              "    cursor: pointer;\n",
              "    display: none;\n",
              "    fill: var(--fill-color);\n",
              "    height: 32px;\n",
              "    padding: 0;\n",
              "    width: 32px;\n",
              "  }\n",
              "\n",
              "  .colab-df-quickchart:hover {\n",
              "    background-color: var(--hover-bg-color);\n",
              "    box-shadow: 0 1px 2px rgba(60, 64, 67, 0.3), 0 1px 3px 1px rgba(60, 64, 67, 0.15);\n",
              "    fill: var(--button-hover-fill-color);\n",
              "  }\n",
              "\n",
              "  .colab-df-quickchart-complete:disabled,\n",
              "  .colab-df-quickchart-complete:disabled:hover {\n",
              "    background-color: var(--disabled-bg-color);\n",
              "    fill: var(--disabled-fill-color);\n",
              "    box-shadow: none;\n",
              "  }\n",
              "\n",
              "  .colab-df-spinner {\n",
              "    border: 2px solid var(--fill-color);\n",
              "    border-color: transparent;\n",
              "    border-bottom-color: var(--fill-color);\n",
              "    animation:\n",
              "      spin 1s steps(1) infinite;\n",
              "  }\n",
              "\n",
              "  @keyframes spin {\n",
              "    0% {\n",
              "      border-color: transparent;\n",
              "      border-bottom-color: var(--fill-color);\n",
              "      border-left-color: var(--fill-color);\n",
              "    }\n",
              "    20% {\n",
              "      border-color: transparent;\n",
              "      border-left-color: var(--fill-color);\n",
              "      border-top-color: var(--fill-color);\n",
              "    }\n",
              "    30% {\n",
              "      border-color: transparent;\n",
              "      border-left-color: var(--fill-color);\n",
              "      border-top-color: var(--fill-color);\n",
              "      border-right-color: var(--fill-color);\n",
              "    }\n",
              "    40% {\n",
              "      border-color: transparent;\n",
              "      border-right-color: var(--fill-color);\n",
              "      border-top-color: var(--fill-color);\n",
              "    }\n",
              "    60% {\n",
              "      border-color: transparent;\n",
              "      border-right-color: var(--fill-color);\n",
              "    }\n",
              "    80% {\n",
              "      border-color: transparent;\n",
              "      border-right-color: var(--fill-color);\n",
              "      border-bottom-color: var(--fill-color);\n",
              "    }\n",
              "    90% {\n",
              "      border-color: transparent;\n",
              "      border-bottom-color: var(--fill-color);\n",
              "    }\n",
              "  }\n",
              "</style>\n",
              "\n",
              "  <script>\n",
              "    async function quickchart(key) {\n",
              "      const quickchartButtonEl =\n",
              "        document.querySelector('#' + key + ' button');\n",
              "      quickchartButtonEl.disabled = true;  // To prevent multiple clicks.\n",
              "      quickchartButtonEl.classList.add('colab-df-spinner');\n",
              "      try {\n",
              "        const charts = await google.colab.kernel.invokeFunction(\n",
              "            'suggestCharts', [key], {});\n",
              "      } catch (error) {\n",
              "        console.error('Error during call to suggestCharts:', error);\n",
              "      }\n",
              "      quickchartButtonEl.classList.remove('colab-df-spinner');\n",
              "      quickchartButtonEl.classList.add('colab-df-quickchart-complete');\n",
              "    }\n",
              "    (() => {\n",
              "      let quickchartButtonEl =\n",
              "        document.querySelector('#df-3cbe0bd6-2f84-4204-b465-ca0afcada101 button');\n",
              "      quickchartButtonEl.style.display =\n",
              "        google.colab.kernel.accessAllowed ? 'block' : 'none';\n",
              "    })();\n",
              "  </script>\n",
              "</div>\n",
              "\n",
              "    </div>\n",
              "  </div>\n"
            ],
            "application/vnd.google.colaboratory.intrinsic+json": {
              "type": "dataframe",
              "variable_name": "train",
              "summary": "{\n  \"name\": \"train\",\n  \"rows\": 16661,\n  \"fields\": [\n    {\n      \"column\": \"file\",\n      \"properties\": {\n        \"dtype\": \"string\",\n        \"num_unique_values\": 16661,\n        \"samples\": [\n          \"train/VeryMildDemented/64093b10-6ef6-458f-81dd-6b8b32dcbf9d.jpg\",\n          \"train/ModerateDemented/320ae068-bbcf-43b4-b06f-e0d7d857874f.jpg\",\n          \"train/ModerateDemented/be02e398-4c32-4742-85f6-b93b245464cd.jpg\"\n        ],\n        \"semantic_type\": \"\",\n        \"description\": \"\"\n      }\n    },\n    {\n      \"column\": \"category\",\n      \"properties\": {\n        \"dtype\": \"category\",\n        \"num_unique_values\": 4,\n        \"samples\": [\n          \"ModerateDemented\",\n          \"VeryMildDemented\",\n          \"NonDemented\"\n        ],\n        \"semantic_type\": \"\",\n        \"description\": \"\"\n      }\n    },\n    {\n      \"column\": \"category_id\",\n      \"properties\": {\n        \"dtype\": \"number\",\n        \"std\": 1,\n        \"min\": 0,\n        \"max\": 3,\n        \"num_unique_values\": 4,\n        \"samples\": [\n          1,\n          3,\n          2\n        ],\n        \"semantic_type\": \"\",\n        \"description\": \"\"\n      }\n    }\n  ]\n}"
            }
          },
          "metadata": {},
          "execution_count": 14
        }
      ],
      "source": [
        "train.head()"
      ]
    },
    {
      "cell_type": "code",
      "execution_count": null,
      "metadata": {
        "colab": {
          "base_uri": "https://localhost:8080/",
          "height": 206
        },
        "id": "WBNTIumjfNIX",
        "outputId": "5b20c5a9-9544-4adc-83c8-84298b7be55f"
      },
      "outputs": [
        {
          "output_type": "execute_result",
          "data": {
            "text/plain": [
              "                                                file          category  \\\n",
              "0  train/VeryMildDemented/f3c3232b-6e52-4e55-80e6...  VeryMildDemented   \n",
              "1  train/NonDemented/c17e51e2-7738-4492-a11d-31f6...       NonDemented   \n",
              "2  train/MildDemented/e8b181b2-9f1a-497c-96c3-e73...      MildDemented   \n",
              "3  train/ModerateDemented/fea35e1d-f91b-4a13-a34d...  ModerateDemented   \n",
              "4  train/MildDemented/3651e088-b5b6-4856-ab88-e32...      MildDemented   \n",
              "\n",
              "   category_id  \n",
              "0            3  \n",
              "1            2  \n",
              "2            0  \n",
              "3            1  \n",
              "4            0  "
            ],
            "text/html": [
              "\n",
              "  <div id=\"df-f0f87e3d-c478-4f3c-a982-1e87441e00c1\" class=\"colab-df-container\">\n",
              "    <div>\n",
              "<style scoped>\n",
              "    .dataframe tbody tr th:only-of-type {\n",
              "        vertical-align: middle;\n",
              "    }\n",
              "\n",
              "    .dataframe tbody tr th {\n",
              "        vertical-align: top;\n",
              "    }\n",
              "\n",
              "    .dataframe thead th {\n",
              "        text-align: right;\n",
              "    }\n",
              "</style>\n",
              "<table border=\"1\" class=\"dataframe\">\n",
              "  <thead>\n",
              "    <tr style=\"text-align: right;\">\n",
              "      <th></th>\n",
              "      <th>file</th>\n",
              "      <th>category</th>\n",
              "      <th>category_id</th>\n",
              "    </tr>\n",
              "  </thead>\n",
              "  <tbody>\n",
              "    <tr>\n",
              "      <th>0</th>\n",
              "      <td>train/VeryMildDemented/f3c3232b-6e52-4e55-80e6...</td>\n",
              "      <td>VeryMildDemented</td>\n",
              "      <td>3</td>\n",
              "    </tr>\n",
              "    <tr>\n",
              "      <th>1</th>\n",
              "      <td>train/NonDemented/c17e51e2-7738-4492-a11d-31f6...</td>\n",
              "      <td>NonDemented</td>\n",
              "      <td>2</td>\n",
              "    </tr>\n",
              "    <tr>\n",
              "      <th>2</th>\n",
              "      <td>train/MildDemented/e8b181b2-9f1a-497c-96c3-e73...</td>\n",
              "      <td>MildDemented</td>\n",
              "      <td>0</td>\n",
              "    </tr>\n",
              "    <tr>\n",
              "      <th>3</th>\n",
              "      <td>train/ModerateDemented/fea35e1d-f91b-4a13-a34d...</td>\n",
              "      <td>ModerateDemented</td>\n",
              "      <td>1</td>\n",
              "    </tr>\n",
              "    <tr>\n",
              "      <th>4</th>\n",
              "      <td>train/MildDemented/3651e088-b5b6-4856-ab88-e32...</td>\n",
              "      <td>MildDemented</td>\n",
              "      <td>0</td>\n",
              "    </tr>\n",
              "  </tbody>\n",
              "</table>\n",
              "</div>\n",
              "    <div class=\"colab-df-buttons\">\n",
              "\n",
              "  <div class=\"colab-df-container\">\n",
              "    <button class=\"colab-df-convert\" onclick=\"convertToInteractive('df-f0f87e3d-c478-4f3c-a982-1e87441e00c1')\"\n",
              "            title=\"Convert this dataframe to an interactive table.\"\n",
              "            style=\"display:none;\">\n",
              "\n",
              "  <svg xmlns=\"http://www.w3.org/2000/svg\" height=\"24px\" viewBox=\"0 -960 960 960\">\n",
              "    <path d=\"M120-120v-720h720v720H120Zm60-500h600v-160H180v160Zm220 220h160v-160H400v160Zm0 220h160v-160H400v160ZM180-400h160v-160H180v160Zm440 0h160v-160H620v160ZM180-180h160v-160H180v160Zm440 0h160v-160H620v160Z\"/>\n",
              "  </svg>\n",
              "    </button>\n",
              "\n",
              "  <style>\n",
              "    .colab-df-container {\n",
              "      display:flex;\n",
              "      gap: 12px;\n",
              "    }\n",
              "\n",
              "    .colab-df-convert {\n",
              "      background-color: #E8F0FE;\n",
              "      border: none;\n",
              "      border-radius: 50%;\n",
              "      cursor: pointer;\n",
              "      display: none;\n",
              "      fill: #1967D2;\n",
              "      height: 32px;\n",
              "      padding: 0 0 0 0;\n",
              "      width: 32px;\n",
              "    }\n",
              "\n",
              "    .colab-df-convert:hover {\n",
              "      background-color: #E2EBFA;\n",
              "      box-shadow: 0px 1px 2px rgba(60, 64, 67, 0.3), 0px 1px 3px 1px rgba(60, 64, 67, 0.15);\n",
              "      fill: #174EA6;\n",
              "    }\n",
              "\n",
              "    .colab-df-buttons div {\n",
              "      margin-bottom: 4px;\n",
              "    }\n",
              "\n",
              "    [theme=dark] .colab-df-convert {\n",
              "      background-color: #3B4455;\n",
              "      fill: #D2E3FC;\n",
              "    }\n",
              "\n",
              "    [theme=dark] .colab-df-convert:hover {\n",
              "      background-color: #434B5C;\n",
              "      box-shadow: 0px 1px 3px 1px rgba(0, 0, 0, 0.15);\n",
              "      filter: drop-shadow(0px 1px 2px rgba(0, 0, 0, 0.3));\n",
              "      fill: #FFFFFF;\n",
              "    }\n",
              "  </style>\n",
              "\n",
              "    <script>\n",
              "      const buttonEl =\n",
              "        document.querySelector('#df-f0f87e3d-c478-4f3c-a982-1e87441e00c1 button.colab-df-convert');\n",
              "      buttonEl.style.display =\n",
              "        google.colab.kernel.accessAllowed ? 'block' : 'none';\n",
              "\n",
              "      async function convertToInteractive(key) {\n",
              "        const element = document.querySelector('#df-f0f87e3d-c478-4f3c-a982-1e87441e00c1');\n",
              "        const dataTable =\n",
              "          await google.colab.kernel.invokeFunction('convertToInteractive',\n",
              "                                                    [key], {});\n",
              "        if (!dataTable) return;\n",
              "\n",
              "        const docLinkHtml = 'Like what you see? Visit the ' +\n",
              "          '<a target=\"_blank\" href=https://colab.research.google.com/notebooks/data_table.ipynb>data table notebook</a>'\n",
              "          + ' to learn more about interactive tables.';\n",
              "        element.innerHTML = '';\n",
              "        dataTable['output_type'] = 'display_data';\n",
              "        await google.colab.output.renderOutput(dataTable, element);\n",
              "        const docLink = document.createElement('div');\n",
              "        docLink.innerHTML = docLinkHtml;\n",
              "        element.appendChild(docLink);\n",
              "      }\n",
              "    </script>\n",
              "  </div>\n",
              "\n",
              "\n",
              "<div id=\"df-987e9129-b389-40b2-a9ff-7576a3c2fdf9\">\n",
              "  <button class=\"colab-df-quickchart\" onclick=\"quickchart('df-987e9129-b389-40b2-a9ff-7576a3c2fdf9')\"\n",
              "            title=\"Suggest charts\"\n",
              "            style=\"display:none;\">\n",
              "\n",
              "<svg xmlns=\"http://www.w3.org/2000/svg\" height=\"24px\"viewBox=\"0 0 24 24\"\n",
              "     width=\"24px\">\n",
              "    <g>\n",
              "        <path d=\"M19 3H5c-1.1 0-2 .9-2 2v14c0 1.1.9 2 2 2h14c1.1 0 2-.9 2-2V5c0-1.1-.9-2-2-2zM9 17H7v-7h2v7zm4 0h-2V7h2v10zm4 0h-2v-4h2v4z\"/>\n",
              "    </g>\n",
              "</svg>\n",
              "  </button>\n",
              "\n",
              "<style>\n",
              "  .colab-df-quickchart {\n",
              "      --bg-color: #E8F0FE;\n",
              "      --fill-color: #1967D2;\n",
              "      --hover-bg-color: #E2EBFA;\n",
              "      --hover-fill-color: #174EA6;\n",
              "      --disabled-fill-color: #AAA;\n",
              "      --disabled-bg-color: #DDD;\n",
              "  }\n",
              "\n",
              "  [theme=dark] .colab-df-quickchart {\n",
              "      --bg-color: #3B4455;\n",
              "      --fill-color: #D2E3FC;\n",
              "      --hover-bg-color: #434B5C;\n",
              "      --hover-fill-color: #FFFFFF;\n",
              "      --disabled-bg-color: #3B4455;\n",
              "      --disabled-fill-color: #666;\n",
              "  }\n",
              "\n",
              "  .colab-df-quickchart {\n",
              "    background-color: var(--bg-color);\n",
              "    border: none;\n",
              "    border-radius: 50%;\n",
              "    cursor: pointer;\n",
              "    display: none;\n",
              "    fill: var(--fill-color);\n",
              "    height: 32px;\n",
              "    padding: 0;\n",
              "    width: 32px;\n",
              "  }\n",
              "\n",
              "  .colab-df-quickchart:hover {\n",
              "    background-color: var(--hover-bg-color);\n",
              "    box-shadow: 0 1px 2px rgba(60, 64, 67, 0.3), 0 1px 3px 1px rgba(60, 64, 67, 0.15);\n",
              "    fill: var(--button-hover-fill-color);\n",
              "  }\n",
              "\n",
              "  .colab-df-quickchart-complete:disabled,\n",
              "  .colab-df-quickchart-complete:disabled:hover {\n",
              "    background-color: var(--disabled-bg-color);\n",
              "    fill: var(--disabled-fill-color);\n",
              "    box-shadow: none;\n",
              "  }\n",
              "\n",
              "  .colab-df-spinner {\n",
              "    border: 2px solid var(--fill-color);\n",
              "    border-color: transparent;\n",
              "    border-bottom-color: var(--fill-color);\n",
              "    animation:\n",
              "      spin 1s steps(1) infinite;\n",
              "  }\n",
              "\n",
              "  @keyframes spin {\n",
              "    0% {\n",
              "      border-color: transparent;\n",
              "      border-bottom-color: var(--fill-color);\n",
              "      border-left-color: var(--fill-color);\n",
              "    }\n",
              "    20% {\n",
              "      border-color: transparent;\n",
              "      border-left-color: var(--fill-color);\n",
              "      border-top-color: var(--fill-color);\n",
              "    }\n",
              "    30% {\n",
              "      border-color: transparent;\n",
              "      border-left-color: var(--fill-color);\n",
              "      border-top-color: var(--fill-color);\n",
              "      border-right-color: var(--fill-color);\n",
              "    }\n",
              "    40% {\n",
              "      border-color: transparent;\n",
              "      border-right-color: var(--fill-color);\n",
              "      border-top-color: var(--fill-color);\n",
              "    }\n",
              "    60% {\n",
              "      border-color: transparent;\n",
              "      border-right-color: var(--fill-color);\n",
              "    }\n",
              "    80% {\n",
              "      border-color: transparent;\n",
              "      border-right-color: var(--fill-color);\n",
              "      border-bottom-color: var(--fill-color);\n",
              "    }\n",
              "    90% {\n",
              "      border-color: transparent;\n",
              "      border-bottom-color: var(--fill-color);\n",
              "    }\n",
              "  }\n",
              "</style>\n",
              "\n",
              "  <script>\n",
              "    async function quickchart(key) {\n",
              "      const quickchartButtonEl =\n",
              "        document.querySelector('#' + key + ' button');\n",
              "      quickchartButtonEl.disabled = true;  // To prevent multiple clicks.\n",
              "      quickchartButtonEl.classList.add('colab-df-spinner');\n",
              "      try {\n",
              "        const charts = await google.colab.kernel.invokeFunction(\n",
              "            'suggestCharts', [key], {});\n",
              "      } catch (error) {\n",
              "        console.error('Error during call to suggestCharts:', error);\n",
              "      }\n",
              "      quickchartButtonEl.classList.remove('colab-df-spinner');\n",
              "      quickchartButtonEl.classList.add('colab-df-quickchart-complete');\n",
              "    }\n",
              "    (() => {\n",
              "      let quickchartButtonEl =\n",
              "        document.querySelector('#df-987e9129-b389-40b2-a9ff-7576a3c2fdf9 button');\n",
              "      quickchartButtonEl.style.display =\n",
              "        google.colab.kernel.accessAllowed ? 'block' : 'none';\n",
              "    })();\n",
              "  </script>\n",
              "</div>\n",
              "\n",
              "    </div>\n",
              "  </div>\n"
            ],
            "application/vnd.google.colaboratory.intrinsic+json": {
              "type": "dataframe",
              "variable_name": "validation",
              "summary": "{\n  \"name\": \"validation\",\n  \"rows\": 7141,\n  \"fields\": [\n    {\n      \"column\": \"file\",\n      \"properties\": {\n        \"dtype\": \"string\",\n        \"num_unique_values\": 7141,\n        \"samples\": [\n          \"train/NonDemented/f92349c5-b5ba-4170-bbc9-ee1b6ec8eaf6.jpg\",\n          \"train/ModerateDemented/d47d5329-0b8b-447f-8d22-88920fc855c4.jpg\",\n          \"train/MildDemented/b0b7b136-4457-4c4e-bfd9-346aa629502d.jpg\"\n        ],\n        \"semantic_type\": \"\",\n        \"description\": \"\"\n      }\n    },\n    {\n      \"column\": \"category\",\n      \"properties\": {\n        \"dtype\": \"category\",\n        \"num_unique_values\": 4,\n        \"samples\": [\n          \"NonDemented\",\n          \"ModerateDemented\",\n          \"VeryMildDemented\"\n        ],\n        \"semantic_type\": \"\",\n        \"description\": \"\"\n      }\n    },\n    {\n      \"column\": \"category_id\",\n      \"properties\": {\n        \"dtype\": \"number\",\n        \"std\": 1,\n        \"min\": 0,\n        \"max\": 3,\n        \"num_unique_values\": 4,\n        \"samples\": [\n          2,\n          1,\n          3\n        ],\n        \"semantic_type\": \"\",\n        \"description\": \"\"\n      }\n    }\n  ]\n}"
            }
          },
          "metadata": {},
          "execution_count": 15
        }
      ],
      "source": [
        "validation.head()"
      ]
    },
    {
      "cell_type": "markdown",
      "metadata": {
        "id": "J2x6knaNfUsQ"
      },
      "source": [
        "# Creating Test DataFrame"
      ]
    },
    {
      "cell_type": "code",
      "execution_count": null,
      "metadata": {
        "colab": {
          "base_uri": "https://localhost:8080/"
        },
        "id": "cvjlC8StfQ78",
        "outputId": "d4c0a8ce-76bf-4aea-8039-81158370fbc2"
      },
      "outputs": [
        {
          "output_type": "execute_result",
          "data": {
            "text/plain": [
              "(10201, 3)"
            ]
          },
          "metadata": {},
          "execution_count": 16
        }
      ],
      "source": [
        "test = []\n",
        "for category_id, category in enumerate(CATEGORIES):\n",
        "    for file in os.listdir(os.path.join(test_dir, category)):\n",
        "        test.append(['val/{}/{}'.format(category, file), category_id, category])\n",
        "test = pd.DataFrame(test, columns=['file', 'category_id', 'category'])\n",
        "test.shape"
      ]
    },
    {
      "cell_type": "markdown",
      "metadata": {
        "id": "NPFbrrWAffo9"
      },
      "source": [
        "# Demonstrating Example Images"
      ]
    },
    {
      "cell_type": "code",
      "execution_count": null,
      "metadata": {
        "id": "r0yiUoDafcNT"
      },
      "outputs": [],
      "source": [
        "def read_img(filepath, size):\n",
        "    img = image.load_img(os.path.join(data_dir, filepath), target_size=size)\n",
        "    img = image.img_to_array(img)\n",
        "    return img"
      ]
    },
    {
      "cell_type": "code",
      "execution_count": null,
      "metadata": {
        "colab": {
          "base_uri": "https://localhost:8080/",
          "height": 345
        },
        "id": "vqQknXDYfk9s",
        "outputId": "30fe9fb6-2247-4786-b9e4-37140ad6dd5f"
      },
      "outputs": [
        {
          "output_type": "display_data",
          "data": {
            "text/plain": [
              "<Figure size 400x400 with 32 Axes>"
            ],
            "image/png": "[encoded data removed]"
          },
          "metadata": {}
        }
      ],
      "source": [
        "fig = plt.figure(1, figsize=(NUM_CATEGORIES, NUM_CATEGORIES))\n",
        "grid = ImageGrid(fig, 111, nrows_ncols=(NUM_CATEGORIES, NUM_CATEGORIES), axes_pad=0.05)\n",
        "\n",
        "i=0\n",
        "for category_id, category in enumerate(CATEGORIES):\n",
        "    for filepath in train[train['category'] == category]['file'].values[:NUM_CATEGORIES]:\n",
        "        ax = grid[i]\n",
        "        img = read_img(filepath, (WIDTH, HEIGHT))\n",
        "        ax.imshow(img / 255.)\n",
        "        ax.axis('off')\n",
        "        if i % NUM_CATEGORIES == NUM_CATEGORIES - 1:\n",
        "            ax.text(250, 112, filepath.split('/')[1], verticalalignment='center')\n",
        "        i+=1\n",
        "\n",
        "plt.show();"
      ]
    },
    {
      "cell_type": "markdown",
      "metadata": {
        "id": "Yhg_ra9sfr2m"
      },
      "source": [
        "# Keras ImageDataGenerator"
      ]
    },
    {
      "cell_type": "code",
      "execution_count": null,
      "metadata": {
        "colab": {
          "base_uri": "https://localhost:8080/"
        },
        "id": "x_noA_YEfnsz",
        "outputId": "a4079d5d-3045-4531-ec3b-da13bcaa5ac2"
      },
      "outputs": [
        {
          "output_type": "stream",
          "name": "stdout",
          "text": [
            "Found 16661 validated image filenames belonging to 4 classes.\n",
            "Found 7141 validated image filenames belonging to 4 classes.\n"
          ]
        }
      ],
      "source": [
        "datagen_train = ImageDataGenerator(rescale=1./255)\n",
        "train_generator = datagen_train.flow_from_dataframe(dataframe=train,\n",
        "                                                  directory=\"..///content/input\",\n",
        "                                                  x_col=\"file\",\n",
        "                                                  y_col=\"category\",\n",
        "                                                  batch_size=64,\n",
        "                                                  seed=SEED,\n",
        "                                                  shuffle=True,\n",
        "                                                  class_mode=\"categorical\",\n",
        "                                                  target_size=(HEIGHT, WIDTH));\n",
        "\n",
        "validation_generator = datagen_train.flow_from_dataframe(dataframe=validation,\n",
        "                                                  directory=\"..///content/input\",\n",
        "                                                  x_col=\"file\",\n",
        "                                                  y_col=\"category\",\n",
        "                                                  batch_size=64,\n",
        "                                                  seed=SEED,\n",
        "                                                  shuffle=True,\n",
        "                                                  class_mode=\"categorical\",\n",
        "                                                  target_size=(HEIGHT, WIDTH));"
      ]
    },
    {
      "cell_type": "code",
      "execution_count": null,
      "metadata": {
        "colab": {
          "base_uri": "https://localhost:8080/"
        },
        "id": "e7-99q9dfyX5",
        "outputId": "bfcdadc6-3b75-47c1-af2d-67f84e2c3a3d"
      },
      "outputs": [
        {
          "output_type": "stream",
          "name": "stdout",
          "text": [
            "Found 10201 validated image filenames belonging to 4 classes.\n"
          ]
        }
      ],
      "source": [
        "datagen_test = ImageDataGenerator(rescale=1./255)\n",
        "test_generator = datagen_test.flow_from_dataframe(dataframe=test,\n",
        "                                                  directory=\"..///content/input\",\n",
        "                                                  x_col=\"file\",\n",
        "                                                  y_col=\"category\",\n",
        "                                                  batch_size=64,\n",
        "                                                  seed=SEED,\n",
        "                                                  shuffle=False,\n",
        "                                                  class_mode=\"categorical\",\n",
        "                                                  target_size=(HEIGHT, WIDTH));"
      ]
    },
    {
      "cell_type": "markdown",
      "metadata": {
        "id": "5IBW53shf5e8"
      },
      "source": [
        "## Early Stopping"
      ]
    },
    {
      "cell_type": "code",
      "execution_count": null,
      "metadata": {
        "id": "KiRsiKL_f1yv"
      },
      "outputs": [],
      "source": [
        "#early_stopping = tf.keras.callbacks.EarlyStopping(monitor='val_loss', patience=20)"
      ]
    },
    {
      "cell_type": "markdown",
      "metadata": {
        "id": "eZGt2kI9FmaI"
      },
      "source": [
        "###Creating CallBacks   ===> 8-8-2023"
      ]
    },
    {
      "cell_type": "code",
      "execution_count": null,
      "metadata": {
        "id": "5N0fYTa8Fqpt"
      },
      "outputs": [],
      "source": [
        "# Hyperparameter Tuning ===>   8-8-2023\n",
        "callbacks = [\n",
        "   # ModelCheckpoint('best_model.h5', monitor='val_loss', save_best_only=True),\n",
        "    EarlyStopping(monitor='val_loss', patience=10, restore_best_weights=True),\n",
        "    ReduceLROnPlateau(monitor='val_loss', factor=0.2, patience=3, min_lr=1e-6)\n",
        "]"
      ]
    },
    {
      "cell_type": "markdown",
      "metadata": {
        "id": "HBX27Ko7gF0L"
      },
      "source": [
        "# Creating Model based on ResNet152V2"
      ]
    },
    {
      "cell_type": "code",
      "execution_count": null,
      "metadata": {
        "id": "rRgIUGL4gCLx"
      },
      "outputs": [],
      "source": [
        "def create_model():\n",
        "\n",
        "    resnet_model = tf.keras.applications.resnet_v2.ResNet152V2(\n",
        "        weights='imagenet',\n",
        "        include_top = False,\n",
        "        #input_shape = (224, 224, 3)\n",
        "        input_shape = (128, 128, 3)\n",
        "\n",
        "    )\n",
        "\n",
        "    for layers in resnet_model.layers[:100]:\n",
        "        layers.trainable = False\n",
        "    for layers in resnet_model.layers[100:]:\n",
        "        layers.trainable = True\n",
        "\n",
        "    x = resnet_model.output\n",
        "    x = tf.keras.layers.GlobalAveragePooling2D()(x)\n",
        "\n",
        "    x = tf.keras.layers.Dropout(0.55)(x)  # from 0.2 to 0.48\n",
        "    x = tf.keras.layers.Dense(1024, activation='relu')(x)\n",
        "    x = tf.keras.layers.Dropout(0.55)(x)  # from 0.2 to 0.48\n",
        "    x = tf.keras.layers.Dense(256, activation='relu')(x)\n",
        "    x = tf.keras.layers.Dropout(0.55)(x)  # from 0.2 to 0.48\n",
        "    # output layer\n",
        "    predictions = tf.keras.layers.Dense(4, activation='softmax')(x)\n",
        "\n",
        "    res_model = tf.keras.Model(inputs=resnet_model.input, outputs=predictions)\n",
        "\n",
        "    # Compiling the model\n",
        "    #optimizer = tf.keras.optimizers.Adam()\n",
        "    optimizer = tf.keras.optimizers.SGD(learning_rate=0.01)\n",
        "    #optimizer = tf.keras.optimizers.RMSprop()\n",
        "    #res_model.compile(loss='categorical_crossentropy', optimizer='ٌadam', metrics=['accuracy'])\n",
        "    res_model.compile(loss='categorical_crossentropy', optimizer= optimizer, metrics=['accuracy'])\n",
        "    return res_model"
      ]
    },
    {
      "cell_type": "code",
      "execution_count": null,
      "metadata": {
        "colab": {
          "base_uri": "https://localhost:8080/"
        },
        "id": "Eda4UH9CgLSV",
        "outputId": "5d90797f-795e-4688-85e8-ed3a3859656e"
      },
      "outputs": [
        {
          "output_type": "stream",
          "name": "stdout",
          "text": [
            "Downloading data from https://storage.googleapis.com/tensorflow/keras-applications/resnet/resnet152v2_weights_tf_dim_ordering_tf_kernels_notop.h5\n",
            "\u001b[1m234545216/234545216\u001b[0m \u001b[32m━━━━━━━━━━━━━━━━━━━━\u001b[0m\u001b[37m\u001b[0m \u001b[1m12s\u001b[0m 0us/step\n"
          ]
        }
      ],
      "source": [
        "res_model = create_model()"
      ]
    },
    {
      "cell_type": "code",
      "execution_count": null,
      "metadata": {
        "id": "R7onTHCvgWWj"
      },
      "outputs": [],
      "source": [
        "res_model.summary()"
      ]
    },
    {
      "cell_type": "code",
      "execution_count": null,
      "metadata": {
        "id": "HdXohWFuLGSH"
      },
      "outputs": [],
      "source": [
        "# Model Architecture Visualization\n",
        "#tf.keras.utils.plot_model(res_model, to_file='resnet152v2.png', show_shapes=True, show_layer_names=True)"
      ]
    },
    {
      "cell_type": "markdown",
      "metadata": {
        "id": "vgh3KRJ9gfDW"
      },
      "source": [
        "# Training the Model"
      ]
    },
    {
      "cell_type": "code",
      "execution_count": null,
      "metadata": {
        "colab": {
          "base_uri": "https://localhost:8080/"
        },
        "id": "F8Ni_uCCgZ2a",
        "outputId": "e29bcbca-e406-42f2-e04a-92ccf0205f8f"
      },
      "outputs": [
        {
          "output_type": "stream",
          "name": "stdout",
          "text": [
            "Epoch 1/250\n"
          ]
        },
        {
          "output_type": "stream",
          "name": "stderr",
          "text": [
            "/usr/local/lib/python3.10/dist-packages/keras/src/trainers/data_adapters/py_dataset_adapter.py:121: UserWarning: Your `PyDataset` class should call `super().__init__(**kwargs)` in its constructor. `**kwargs` can include `workers`, `use_multiprocessing`, `max_queue_size`. Do not pass these arguments to `fit()`, as they will be ignored.\n",
            "  self._warn_if_super_not_called()\n"
          ]
        },
        {
          "output_type": "stream",
          "name": "stdout",
          "text": [
            "\u001b[1m8331/8331\u001b[0m \u001b[32m━━━━━━━━━━━━━━━━━━━━\u001b[0m\u001b[37m\u001b[0m \u001b[1m743s\u001b[0m 78ms/step - accuracy: 0.2694 - loss: nan - val_accuracy: 0.2656 - val_loss: nan - learning_rate: 0.0100\n",
            "Epoch 2/250\n",
            "\u001b[1m8331/8331\u001b[0m \u001b[32m━━━━━━━━━━━━━━━━━━━━\u001b[0m\u001b[37m\u001b[0m \u001b[1m640s\u001b[0m 71ms/step - accuracy: 0.2583 - loss: nan - val_accuracy: 0.2656 - val_loss: nan - learning_rate: 0.0100\n",
            "Epoch 3/250\n",
            "\u001b[1m8331/8331\u001b[0m \u001b[32m━━━━━━━━━━━━━━━━━━━━\u001b[0m\u001b[37m\u001b[0m \u001b[1m595s\u001b[0m 71ms/step - accuracy: 0.2642 - loss: nan - val_accuracy: 0.2656 - val_loss: nan - learning_rate: 0.0100\n",
            "Epoch 4/250\n",
            "\u001b[1m8331/8331\u001b[0m \u001b[32m━━━━━━━━━━━━━━━━━━━━\u001b[0m\u001b[37m\u001b[0m \u001b[1m584s\u001b[0m 70ms/step - accuracy: 0.2676 - loss: nan - val_accuracy: 0.2656 - val_loss: nan - learning_rate: 0.0020\n",
            "Epoch 5/250\n",
            "\u001b[1m8331/8331\u001b[0m \u001b[32m━━━━━━━━━━━━━━━━━━━━\u001b[0m\u001b[37m\u001b[0m \u001b[1m583s\u001b[0m 70ms/step - accuracy: 0.2584 - loss: nan - val_accuracy: 0.2656 - val_loss: nan - learning_rate: 0.0020\n",
            "Epoch 6/250\n",
            "\u001b[1m8331/8331\u001b[0m \u001b[32m━━━━━━━━━━━━━━━━━━━━\u001b[0m\u001b[37m\u001b[0m \u001b[1m592s\u001b[0m 71ms/step - accuracy: 0.2680 - loss: nan - val_accuracy: 0.2656 - val_loss: nan - learning_rate: 0.0020\n",
            "Epoch 7/250\n",
            "\u001b[1m8331/8331\u001b[0m \u001b[32m━━━━━━━━━━━━━━━━━━━━\u001b[0m\u001b[37m\u001b[0m \u001b[1m622s\u001b[0m 71ms/step - accuracy: 0.2639 - loss: nan - val_accuracy: 0.2656 - val_loss: nan - learning_rate: 4.0000e-04\n",
            "Epoch 8/250\n",
            "\u001b[1m8331/8331\u001b[0m \u001b[32m━━━━━━━━━━━━━━━━━━━━\u001b[0m\u001b[37m\u001b[0m \u001b[1m621s\u001b[0m 71ms/step - accuracy: 0.2592 - loss: nan - val_accuracy: 0.2656 - val_loss: nan - learning_rate: 4.0000e-04\n",
            "Epoch 9/250\n",
            "\u001b[1m8331/8331\u001b[0m \u001b[32m━━━━━━━━━━━━━━━━━━━━\u001b[0m\u001b[37m\u001b[0m \u001b[1m614s\u001b[0m 70ms/step - accuracy: 0.2637 - loss: nan - val_accuracy: 0.2656 - val_loss: nan - learning_rate: 4.0000e-04\n",
            "Epoch 10/250\n",
            "\u001b[1m8331/8331\u001b[0m \u001b[32m━━━━━━━━━━━━━━━━━━━━\u001b[0m\u001b[37m\u001b[0m \u001b[1m631s\u001b[0m 71ms/step - accuracy: 0.2654 - loss: nan - val_accuracy: 0.2656 - val_loss: nan - learning_rate: 8.0000e-05\n"
          ]
        }
      ],
      "source": [
        "history = res_model.fit(train_generator,\n",
        "                    #steps_per_epoch=len(train_generator),\n",
        "                    epochs=250,\n",
        "                    validation_data=validation_generator,\n",
        "                    #validation_steps=len(validation_generator),\n",
        "                    callbacks=callbacks,\n",
        "                    batch_size=64,\n",
        "                    verbose=1)"
      ]
    },
    {
      "cell_type": "markdown",
      "metadata": {
        "id": "pu8N1kqMgpuJ"
      },
      "source": [
        "# Plotting the history of model"
      ]
    },
    {
      "cell_type": "code",
      "execution_count": null,
      "metadata": {
        "colab": {
          "base_uri": "https://localhost:8080/",
          "height": 927
        },
        "id": "sxk9c367gl-S",
        "outputId": "391ffab6-92f3-4141-d39b-8fb83992eb23"
      },
      "outputs": [
        {
          "output_type": "display_data",
          "data": {
            "text/plain": [
              "<Figure size 640x480 with 1 Axes>"
            ],
            "image/png": "[encoded data removed]"
          },
          "metadata": {}
        },
        {
          "output_type": "display_data",
          "data": {
            "text/plain": [
              "<Figure size 640x480 with 1 Axes>"
            ],
            "image/png": "[encoded data removed]"
          },
          "metadata": {}
        }
      ],
      "source": [
        "plot_loss_curves(history)"
      ]
    },
    {
      "cell_type": "markdown",
      "metadata": {
        "id": "TkE3-uLFg2_S"
      },
      "source": [
        "# Evaluation"
      ]
    },
    {
      "cell_type": "code",
      "execution_count": null,
      "metadata": {
        "colab": {
          "base_uri": "https://localhost:8080/"
        },
        "id": "OiHBLvQYgxQh",
        "outputId": "5ae7f989-337a-4011-af2b-fc914db9061b"
      },
      "outputs": [
        {
          "output_type": "stream",
          "name": "stdout",
          "text": [
            "\u001b[1m3571/3571\u001b[0m \u001b[32m━━━━━━━━━━━━━━━━━━━━\u001b[0m\u001b[37m\u001b[0m \u001b[1m83s\u001b[0m 23ms/step - accuracy: 0.2645 - loss: nan\n",
            "\n",
            "Train loss: nan\n",
            "Train Accuracy: 26.56 %\n"
          ]
        }
      ],
      "source": [
        "valid_loss, valid_accuracy = res_model.evaluate(validation_generator)\n",
        "\n",
        "print(f'\\nTrain loss: {valid_loss:.2f}')\n",
        "print(f'Train Accuracy: {valid_accuracy*100:.2f} %')"
      ]
    },
    {
      "cell_type": "code",
      "execution_count": null,
      "metadata": {
        "colab": {
          "base_uri": "https://localhost:8080/"
        },
        "id": "SGjbW1YahATH",
        "outputId": "01ae2c28-1812-4927-e5c8-dac5dd12534a"
      },
      "outputs": [
        {
          "output_type": "stream",
          "name": "stdout",
          "text": [
            "\u001b[1m5101/5101\u001b[0m \u001b[32m━━━━━━━━━━━━━━━━━━━━\u001b[0m\u001b[37m\u001b[0m \u001b[1m122s\u001b[0m 24ms/step - accuracy: 0.0383 - loss: nan\n",
            "\n",
            "Test loss: nan \n",
            "Test Accuracy: 26.35 %\n"
          ]
        }
      ],
      "source": [
        "loss, accuracy = res_model.evaluate(test_generator)\n",
        "\n",
        "print(f'\\nTest loss: {loss:.2f} ')\n",
        "print(f'Test Accuracy: {accuracy*100:.2f} %')"
      ]
    },
    {
      "cell_type": "code",
      "execution_count": null,
      "metadata": {
        "colab": {
          "base_uri": "https://localhost:8080/"
        },
        "id": "7SNHpYFArwkA",
        "outputId": "431513b4-30f4-433e-c6ec-e9377eb48fd0"
      },
      "outputs": [
        {
          "output_type": "stream",
          "name": "stdout",
          "text": [
            "\u001b[1m5101/5101\u001b[0m \u001b[32m━━━━━━━━━━━━━━━━━━━━\u001b[0m\u001b[37m\u001b[0m \u001b[1m121s\u001b[0m 24ms/step - accuracy: 0.0383 - loss: nan\n",
            "\n",
            "Test loss: nan \n",
            "Test Accuracy: 26.35 %\n"
          ]
        }
      ],
      "source": [
        "loss, accuracy = res_model.evaluate(test_generator)\n",
        "\n",
        "print(f'\\nTest loss: {loss:.2f} ')\n",
        "print(f'Test Accuracy: {accuracy*100:.2f} %')"
      ]
    },
    {
      "cell_type": "code",
      "execution_count": null,
      "metadata": {
        "id": "3foHF0SQhBEs"
      },
      "outputs": [],
      "source": []
    },
    {
      "cell_type": "code",
      "execution_count": null,
      "metadata": {
        "colab": {
          "base_uri": "https://localhost:8080/",
          "height": 410
        },
        "id": "dX7gKbznr6X1",
        "outputId": "338eb1b2-bfea-4c28-dea7-6ea9c5bd3b6b"
      },
      "outputs": [
        {
          "output_type": "stream",
          "name": "stdout",
          "text": [
            "\u001b[1m5101/5101\u001b[0m \u001b[32m━━━━━━━━━━━━━━━━━━━━\u001b[0m\u001b[37m\u001b[0m \u001b[1m104s\u001b[0m 19ms/step\n"
          ]
        },
        {
          "output_type": "stream",
          "name": "stderr",
          "text": [
            "/usr/local/lib/python3.10/dist-packages/sklearn/metrics/_classification.py:1531: UndefinedMetricWarning: Precision is ill-defined and being set to 0.0 in labels with no predicted samples. Use `zero_division` parameter to control this behavior.\n",
            "  _warn_prf(average, modifier, f\"{metric.capitalize()} is\", len(result))\n",
            "/usr/local/lib/python3.10/dist-packages/sklearn/metrics/_classification.py:1531: UndefinedMetricWarning: Precision is ill-defined and being set to 0.0 in labels with no predicted samples. Use `zero_division` parameter to control this behavior.\n",
            "  _warn_prf(average, modifier, f\"{metric.capitalize()} is\", len(result))\n",
            "/usr/local/lib/python3.10/dist-packages/sklearn/metrics/_classification.py:1531: UndefinedMetricWarning: Precision is ill-defined and being set to 0.0 in labels with no predicted samples. Use `zero_division` parameter to control this behavior.\n",
            "  _warn_prf(average, modifier, f\"{metric.capitalize()} is\", len(result))\n"
          ]
        },
        {
          "output_type": "execute_result",
          "data": {
            "text/plain": [
              "                  precision    recall  f1-score       support\n",
              "MildDemented       0.264092  1.000000  0.417836   2694.000000\n",
              "ModerateDemented   0.000000  0.000000  0.000000   1939.000000\n",
              "NonDemented        0.000000  0.000000  0.000000   2880.000000\n",
              "VeryMildDemented   0.000000  0.000000  0.000000   2688.000000\n",
              "accuracy           0.264092  0.264092  0.264092      0.264092\n",
              "macro avg          0.066023  0.250000  0.104459  10201.000000\n",
              "weighted avg       0.069744  0.264092  0.110347  10201.000000"
            ],
            "text/html": [
              "\n",
              "  <div id=\"df-0497a8b6-227c-41c0-b79a-a01631b19a62\" class=\"colab-df-container\">\n",
              "    <div>\n",
              "<style scoped>\n",
              "    .dataframe tbody tr th:only-of-type {\n",
              "        vertical-align: middle;\n",
              "    }\n",
              "\n",
              "    .dataframe tbody tr th {\n",
              "        vertical-align: top;\n",
              "    }\n",
              "\n",
              "    .dataframe thead th {\n",
              "        text-align: right;\n",
              "    }\n",
              "</style>\n",
              "<table border=\"1\" class=\"dataframe\">\n",
              "  <thead>\n",
              "    <tr style=\"text-align: right;\">\n",
              "      <th></th>\n",
              "      <th>precision</th>\n",
              "      <th>recall</th>\n",
              "      <th>f1-score</th>\n",
              "      <th>support</th>\n",
              "    </tr>\n",
              "  </thead>\n",
              "  <tbody>\n",
              "    <tr>\n",
              "      <th>MildDemented</th>\n",
              "      <td>0.264092</td>\n",
              "      <td>1.000000</td>\n",
              "      <td>0.417836</td>\n",
              "      <td>2694.000000</td>\n",
              "    </tr>\n",
              "    <tr>\n",
              "      <th>ModerateDemented</th>\n",
              "      <td>0.000000</td>\n",
              "      <td>0.000000</td>\n",
              "      <td>0.000000</td>\n",
              "      <td>1939.000000</td>\n",
              "    </tr>\n",
              "    <tr>\n",
              "      <th>NonDemented</th>\n",
              "      <td>0.000000</td>\n",
              "      <td>0.000000</td>\n",
              "      <td>0.000000</td>\n",
              "      <td>2880.000000</td>\n",
              "    </tr>\n",
              "    <tr>\n",
              "      <th>VeryMildDemented</th>\n",
              "      <td>0.000000</td>\n",
              "      <td>0.000000</td>\n",
              "      <td>0.000000</td>\n",
              "      <td>2688.000000</td>\n",
              "    </tr>\n",
              "    <tr>\n",
              "      <th>accuracy</th>\n",
              "      <td>0.264092</td>\n",
              "      <td>0.264092</td>\n",
              "      <td>0.264092</td>\n",
              "      <td>0.264092</td>\n",
              "    </tr>\n",
              "    <tr>\n",
              "      <th>macro avg</th>\n",
              "      <td>0.066023</td>\n",
              "      <td>0.250000</td>\n",
              "      <td>0.104459</td>\n",
              "      <td>10201.000000</td>\n",
              "    </tr>\n",
              "    <tr>\n",
              "      <th>weighted avg</th>\n",
              "      <td>0.069744</td>\n",
              "      <td>0.264092</td>\n",
              "      <td>0.110347</td>\n",
              "      <td>10201.000000</td>\n",
              "    </tr>\n",
              "  </tbody>\n",
              "</table>\n",
              "</div>\n",
              "    <div class=\"colab-df-buttons\">\n",
              "\n",
              "  <div class=\"colab-df-container\">\n",
              "    <button class=\"colab-df-convert\" onclick=\"convertToInteractive('df-0497a8b6-227c-41c0-b79a-a01631b19a62')\"\n",
              "            title=\"Convert this dataframe to an interactive table.\"\n",
              "            style=\"display:none;\">\n",
              "\n",
              "  <svg xmlns=\"http://www.w3.org/2000/svg\" height=\"24px\" viewBox=\"0 -960 960 960\">\n",
              "    <path d=\"M120-120v-720h720v720H120Zm60-500h600v-160H180v160Zm220 220h160v-160H400v160Zm0 220h160v-160H400v160ZM180-400h160v-160H180v160Zm440 0h160v-160H620v160ZM180-180h160v-160H180v160Zm440 0h160v-160H620v160Z\"/>\n",
              "  </svg>\n",
              "    </button>\n",
              "\n",
              "  <style>\n",
              "    .colab-df-container {\n",
              "      display:flex;\n",
              "      gap: 12px;\n",
              "    }\n",
              "\n",
              "    .colab-df-convert {\n",
              "      background-color: #E8F0FE;\n",
              "      border: none;\n",
              "      border-radius: 50%;\n",
              "      cursor: pointer;\n",
              "      display: none;\n",
              "      fill: #1967D2;\n",
              "      height: 32px;\n",
              "      padding: 0 0 0 0;\n",
              "      width: 32px;\n",
              "    }\n",
              "\n",
              "    .colab-df-convert:hover {\n",
              "      background-color: #E2EBFA;\n",
              "      box-shadow: 0px 1px 2px rgba(60, 64, 67, 0.3), 0px 1px 3px 1px rgba(60, 64, 67, 0.15);\n",
              "      fill: #174EA6;\n",
              "    }\n",
              "\n",
              "    .colab-df-buttons div {\n",
              "      margin-bottom: 4px;\n",
              "    }\n",
              "\n",
              "    [theme=dark] .colab-df-convert {\n",
              "      background-color: #3B4455;\n",
              "      fill: #D2E3FC;\n",
              "    }\n",
              "\n",
              "    [theme=dark] .colab-df-convert:hover {\n",
              "      background-color: #434B5C;\n",
              "      box-shadow: 0px 1px 3px 1px rgba(0, 0, 0, 0.15);\n",
              "      filter: drop-shadow(0px 1px 2px rgba(0, 0, 0, 0.3));\n",
              "      fill: #FFFFFF;\n",
              "    }\n",
              "  </style>\n",
              "\n",
              "    <script>\n",
              "      const buttonEl =\n",
              "        document.querySelector('#df-0497a8b6-227c-41c0-b79a-a01631b19a62 button.colab-df-convert');\n",
              "      buttonEl.style.display =\n",
              "        google.colab.kernel.accessAllowed ? 'block' : 'none';\n",
              "\n",
              "      async function convertToInteractive(key) {\n",
              "        const element = document.querySelector('#df-0497a8b6-227c-41c0-b79a-a01631b19a62');\n",
              "        const dataTable =\n",
              "          await google.colab.kernel.invokeFunction('convertToInteractive',\n",
              "                                                    [key], {});\n",
              "        if (!dataTable) return;\n",
              "\n",
              "        const docLinkHtml = 'Like what you see? Visit the ' +\n",
              "          '<a target=\"_blank\" href=https://colab.research.google.com/notebooks/data_table.ipynb>data table notebook</a>'\n",
              "          + ' to learn more about interactive tables.';\n",
              "        element.innerHTML = '';\n",
              "        dataTable['output_type'] = 'display_data';\n",
              "        await google.colab.output.renderOutput(dataTable, element);\n",
              "        const docLink = document.createElement('div');\n",
              "        docLink.innerHTML = docLinkHtml;\n",
              "        element.appendChild(docLink);\n",
              "      }\n",
              "    </script>\n",
              "  </div>\n",
              "\n",
              "\n",
              "<div id=\"df-77722489-8cf5-43c1-885a-2f5d3d1c57de\">\n",
              "  <button class=\"colab-df-quickchart\" onclick=\"quickchart('df-77722489-8cf5-43c1-885a-2f5d3d1c57de')\"\n",
              "            title=\"Suggest charts\"\n",
              "            style=\"display:none;\">\n",
              "\n",
              "<svg xmlns=\"http://www.w3.org/2000/svg\" height=\"24px\"viewBox=\"0 0 24 24\"\n",
              "     width=\"24px\">\n",
              "    <g>\n",
              "        <path d=\"M19 3H5c-1.1 0-2 .9-2 2v14c0 1.1.9 2 2 2h14c1.1 0 2-.9 2-2V5c0-1.1-.9-2-2-2zM9 17H7v-7h2v7zm4 0h-2V7h2v10zm4 0h-2v-4h2v4z\"/>\n",
              "    </g>\n",
              "</svg>\n",
              "  </button>\n",
              "\n",
              "<style>\n",
              "  .colab-df-quickchart {\n",
              "      --bg-color: #E8F0FE;\n",
              "      --fill-color: #1967D2;\n",
              "      --hover-bg-color: #E2EBFA;\n",
              "      --hover-fill-color: #174EA6;\n",
              "      --disabled-fill-color: #AAA;\n",
              "      --disabled-bg-color: #DDD;\n",
              "  }\n",
              "\n",
              "  [theme=dark] .colab-df-quickchart {\n",
              "      --bg-color: #3B4455;\n",
              "      --fill-color: #D2E3FC;\n",
              "      --hover-bg-color: #434B5C;\n",
              "      --hover-fill-color: #FFFFFF;\n",
              "      --disabled-bg-color: #3B4455;\n",
              "      --disabled-fill-color: #666;\n",
              "  }\n",
              "\n",
              "  .colab-df-quickchart {\n",
              "    background-color: var(--bg-color);\n",
              "    border: none;\n",
              "    border-radius: 50%;\n",
              "    cursor: pointer;\n",
              "    display: none;\n",
              "    fill: var(--fill-color);\n",
              "    height: 32px;\n",
              "    padding: 0;\n",
              "    width: 32px;\n",
              "  }\n",
              "\n",
              "  .colab-df-quickchart:hover {\n",
              "    background-color: var(--hover-bg-color);\n",
              "    box-shadow: 0 1px 2px rgba(60, 64, 67, 0.3), 0 1px 3px 1px rgba(60, 64, 67, 0.15);\n",
              "    fill: var(--button-hover-fill-color);\n",
              "  }\n",
              "\n",
              "  .colab-df-quickchart-complete:disabled,\n",
              "  .colab-df-quickchart-complete:disabled:hover {\n",
              "    background-color: var(--disabled-bg-color);\n",
              "    fill: var(--disabled-fill-color);\n",
              "    box-shadow: none;\n",
              "  }\n",
              "\n",
              "  .colab-df-spinner {\n",
              "    border: 2px solid var(--fill-color);\n",
              "    border-color: transparent;\n",
              "    border-bottom-color: var(--fill-color);\n",
              "    animation:\n",
              "      spin 1s steps(1) infinite;\n",
              "  }\n",
              "\n",
              "  @keyframes spin {\n",
              "    0% {\n",
              "      border-color: transparent;\n",
              "      border-bottom-color: var(--fill-color);\n",
              "      border-left-color: var(--fill-color);\n",
              "    }\n",
              "    20% {\n",
              "      border-color: transparent;\n",
              "      border-left-color: var(--fill-color);\n",
              "      border-top-color: var(--fill-color);\n",
              "    }\n",
              "    30% {\n",
              "      border-color: transparent;\n",
              "      border-left-color: var(--fill-color);\n",
              "      border-top-color: var(--fill-color);\n",
              "      border-right-color: var(--fill-color);\n",
              "    }\n",
              "    40% {\n",
              "      border-color: transparent;\n",
              "      border-right-color: var(--fill-color);\n",
              "      border-top-color: var(--fill-color);\n",
              "    }\n",
              "    60% {\n",
              "      border-color: transparent;\n",
              "      border-right-color: var(--fill-color);\n",
              "    }\n",
              "    80% {\n",
              "      border-color: transparent;\n",
              "      border-right-color: var(--fill-color);\n",
              "      border-bottom-color: var(--fill-color);\n",
              "    }\n",
              "    90% {\n",
              "      border-color: transparent;\n",
              "      border-bottom-color: var(--fill-color);\n",
              "    }\n",
              "  }\n",
              "</style>\n",
              "\n",
              "  <script>\n",
              "    async function quickchart(key) {\n",
              "      const quickchartButtonEl =\n",
              "        document.querySelector('#' + key + ' button');\n",
              "      quickchartButtonEl.disabled = true;  // To prevent multiple clicks.\n",
              "      quickchartButtonEl.classList.add('colab-df-spinner');\n",
              "      try {\n",
              "        const charts = await google.colab.kernel.invokeFunction(\n",
              "            'suggestCharts', [key], {});\n",
              "      } catch (error) {\n",
              "        console.error('Error during call to suggestCharts:', error);\n",
              "      }\n",
              "      quickchartButtonEl.classList.remove('colab-df-spinner');\n",
              "      quickchartButtonEl.classList.add('colab-df-quickchart-complete');\n",
              "    }\n",
              "    (() => {\n",
              "      let quickchartButtonEl =\n",
              "        document.querySelector('#df-77722489-8cf5-43c1-885a-2f5d3d1c57de button');\n",
              "      quickchartButtonEl.style.display =\n",
              "        google.colab.kernel.accessAllowed ? 'block' : 'none';\n",
              "    })();\n",
              "  </script>\n",
              "</div>\n",
              "\n",
              "  <div id=\"id_185a7e0b-df2d-40ae-892a-2f8b2110936b\">\n",
              "    <style>\n",
              "      .colab-df-generate {\n",
              "        background-color: #E8F0FE;\n",
              "        border: none;\n",
              "        border-radius: 50%;\n",
              "        cursor: pointer;\n",
              "        display: none;\n",
              "        fill: #1967D2;\n",
              "        height: 32px;\n",
              "        padding: 0 0 0 0;\n",
              "        width: 32px;\n",
              "      }\n",
              "\n",
              "      .colab-df-generate:hover {\n",
              "        background-color: #E2EBFA;\n",
              "        box-shadow: 0px 1px 2px rgba(60, 64, 67, 0.3), 0px 1px 3px 1px rgba(60, 64, 67, 0.15);\n",
              "        fill: #174EA6;\n",
              "      }\n",
              "\n",
              "      [theme=dark] .colab-df-generate {\n",
              "        background-color: #3B4455;\n",
              "        fill: #D2E3FC;\n",
              "      }\n",
              "\n",
              "      [theme=dark] .colab-df-generate:hover {\n",
              "        background-color: #434B5C;\n",
              "        box-shadow: 0px 1px 3px 1px rgba(0, 0, 0, 0.15);\n",
              "        filter: drop-shadow(0px 1px 2px rgba(0, 0, 0, 0.3));\n",
              "        fill: #FFFFFF;\n",
              "      }\n",
              "    </style>\n",
              "    <button class=\"colab-df-generate\" onclick=\"generateWithVariable('df')\"\n",
              "            title=\"Generate code using this dataframe.\"\n",
              "            style=\"display:none;\">\n",
              "\n",
              "  <svg xmlns=\"http://www.w3.org/2000/svg\" height=\"24px\"viewBox=\"0 0 24 24\"\n",
              "       width=\"24px\">\n",
              "    <path d=\"M7,19H8.4L18.45,9,17,7.55,7,17.6ZM5,21V16.75L18.45,3.32a2,2,0,0,1,2.83,0l1.4,1.43a1.91,1.91,0,0,1,.58,1.4,1.91,1.91,0,0,1-.58,1.4L9.25,21ZM18.45,9,17,7.55Zm-12,3A5.31,5.31,0,0,0,4.9,8.1,5.31,5.31,0,0,0,1,6.5,5.31,5.31,0,0,0,4.9,4.9,5.31,5.31,0,0,0,6.5,1,5.31,5.31,0,0,0,8.1,4.9,5.31,5.31,0,0,0,12,6.5,5.46,5.46,0,0,0,6.5,12Z\"/>\n",
              "  </svg>\n",
              "    </button>\n",
              "    <script>\n",
              "      (() => {\n",
              "      const buttonEl =\n",
              "        document.querySelector('#id_185a7e0b-df2d-40ae-892a-2f8b2110936b button.colab-df-generate');\n",
              "      buttonEl.style.display =\n",
              "        google.colab.kernel.accessAllowed ? 'block' : 'none';\n",
              "\n",
              "      buttonEl.onclick = () => {\n",
              "        google.colab.notebook.generateWithVariable('df');\n",
              "      }\n",
              "      })();\n",
              "    </script>\n",
              "  </div>\n",
              "\n",
              "    </div>\n",
              "  </div>\n"
            ],
            "application/vnd.google.colaboratory.intrinsic+json": {
              "type": "dataframe",
              "variable_name": "df",
              "summary": "{\n  \"name\": \"df\",\n  \"rows\": 7,\n  \"fields\": [\n    {\n      \"column\": \"precision\",\n      \"properties\": {\n        \"dtype\": \"number\",\n        \"std\": 0.11953827773957718,\n        \"min\": 0.0,\n        \"max\": 0.2640917557102245,\n        \"num_unique_values\": 4,\n        \"samples\": [\n          0.0,\n          0.06974445543410888,\n          0.2640917557102245\n        ],\n        \"semantic_type\": \"\",\n        \"description\": \"\"\n      }\n    },\n    {\n      \"column\": \"recall\",\n      \"properties\": {\n        \"dtype\": \"number\",\n        \"std\": 0.35362024882061205,\n        \"min\": 0.0,\n        \"max\": 1.0,\n        \"num_unique_values\": 4,\n        \"samples\": [\n          0.0,\n          0.25,\n          1.0\n        ],\n        \"semantic_type\": \"\",\n        \"description\": \"\"\n      }\n    },\n    {\n      \"column\": \"f1-score\",\n      \"properties\": {\n        \"dtype\": \"number\",\n        \"std\": 0.1594489513200561,\n        \"min\": 0.0,\n        \"max\": 0.4178363706863125,\n        \"num_unique_values\": 5,\n        \"samples\": [\n          0.0,\n          0.11034714073413644,\n          0.2640917557102245\n        ],\n        \"semantic_type\": \"\",\n        \"description\": \"\"\n      }\n    },\n    {\n      \"column\": \"support\",\n      \"properties\": {\n        \"dtype\": \"number\",\n        \"std\": 4100.07418172864,\n        \"min\": 0.2640917557102245,\n        \"max\": 10201.0,\n        \"num_unique_values\": 6,\n        \"samples\": [\n          2694.0,\n          1939.0,\n          10201.0\n        ],\n        \"semantic_type\": \"\",\n        \"description\": \"\"\n      }\n    }\n  ]\n}"
            }
          },
          "metadata": {},
          "execution_count": 32
        }
      ],
      "source": [
        "y_predict = res_model.predict(test_generator)\n",
        "prediction = np.argmax(y_predict,axis=1)\n",
        "labels = (train_generator.class_indices)\n",
        "labels = dict((v,k) for k,v in labels.items())\n",
        "prediction = [labels[k] for k in prediction]\n",
        "\n",
        "y_test = list(test.category)\n",
        "\n",
        "report = classification_report(y_test, prediction, output_dict=True)\n",
        "df = pd.DataFrame(report).transpose()\n",
        "df"
      ]
    },
    {
      "cell_type": "markdown",
      "metadata": {
        "id": "Pdf1lAnC6YgN"
      },
      "source": [
        "####Create the Confusion Matrix"
      ]
    },
    {
      "cell_type": "code",
      "execution_count": null,
      "metadata": {
        "colab": {
          "base_uri": "https://localhost:8080/",
          "height": 576
        },
        "id": "Sc2Rnkq26fM6",
        "outputId": "1c537aeb-cbfd-491a-ce5d-23a08e1d1725"
      },
      "outputs": [
        {
          "output_type": "stream",
          "name": "stdout",
          "text": [
            "\u001b[1m5101/5101\u001b[0m \u001b[32m━━━━━━━━━━━━━━━━━━━━\u001b[0m\u001b[37m\u001b[0m \u001b[1m88s\u001b[0m 17ms/step\n",
            "Confusion Matrix:\n",
            "[[2694    0    0    0]\n",
            " [1939    0    0    0]\n",
            " [2880    0    0    0]\n",
            " [2688    0    0    0]]\n"
          ]
        },
        {
          "output_type": "display_data",
          "data": {
            "text/plain": [
              "<Figure size 640x480 with 2 Axes>"
            ],
            "image/png": "[encoded data removed]"
          },
          "metadata": {}
        }
      ],
      "source": [
        "from sklearn.metrics import confusion_matrix\n",
        "# Set the number of classes for your task\n",
        "num_classes = 4\n",
        "\n",
        "# Generate predictions on the test dataset\n",
        "y_true = test_generator.classes\n",
        "y_pred = res_model.predict(test_generator)\n",
        "\n",
        "# Get predicted classes\n",
        "y_pred_classes = np.argmax(y_pred, axis=1)\n",
        "\n",
        "# Calculate confusion matrix\n",
        "conf_matrix = confusion_matrix(y_true, y_pred_classes)\n",
        "\n",
        "# Print confusion matrix\n",
        "print(\"Confusion Matrix:\")\n",
        "print(conf_matrix)\n",
        "'''\n",
        "# Plot confusion matrix\n",
        "plt.figure(figsize=(6, 4))\n",
        "sns.set(font_scale=1.2)\n",
        "sns.heatmap(conf_matrix, annot=True, fmt=\"d\", cmap=plt.cm.Blues, cbar=False,\n",
        "            annot_kws={\"size\": 15}, linewidths=0.5, square=True,\n",
        "            xticklabels=['MildDemented', 'ModerateDemented', 'NonDemented', 'VeryMildDemented'], yticklabels=['MildDemented', 'ModerateDemented', 'NonDemented', 'VeryMildDemented'])\n",
        "'''\n",
        "# Plot confusion matrix\n",
        "plt.imshow(conf_matrix, cmap=plt.cm.Blues)\n",
        "plt.title(\"Confusion Matrix\")\n",
        "plt.colorbar()\n",
        "plt.xlabel(\"Predicted labels\")\n",
        "plt.ylabel(\"True labels\")\n",
        "plt.show()\n"
      ]
    },
    {
      "cell_type": "code",
      "execution_count": null,
      "metadata": {
        "id": "6pFHwszGxjyR"
      },
      "outputs": [],
      "source": []
    },
    {
      "cell_type": "code",
      "execution_count": null,
      "metadata": {
        "colab": {
          "base_uri": "https://localhost:8080/"
        },
        "id": "VOZHsns-sLJq",
        "outputId": "33b995d4-8b21-4c3c-8252-81f040320f12"
      },
      "outputs": [
        {
          "output_type": "stream",
          "name": "stdout",
          "text": [
            "\u001b[1m5101/5101\u001b[0m \u001b[32m━━━━━━━━━━━━━━━━━━━━\u001b[0m\u001b[37m\u001b[0m \u001b[1m115s\u001b[0m 23ms/step - accuracy: 0.0383 - loss: nan\n",
            "Test Loss: nan\n",
            "Test Accuracy:: 26.35 %\n"
          ]
        }
      ],
      "source": [
        "# Evaluate the Model on Test Data   ======>9-8-2023\n",
        "test_loss, test_accuracy = res_model.evaluate(test_generator, steps=len(test_generator))\n",
        "print(\"Test Loss:\", test_loss)\n",
        "#print(\"Test Accuracy:\", test_accuracy)\n",
        "print(f'Test Accuracy:: {test_accuracy*100:.2f} %')\n"
      ]
    },
    {
      "cell_type": "code",
      "execution_count": null,
      "metadata": {
        "id": "_F6hZdbfVf_6"
      },
      "outputs": [],
      "source": []
    },
    {
      "cell_type": "code",
      "execution_count": null,
      "metadata": {
        "colab": {
          "base_uri": "https://localhost:8080/"
        },
        "id": "MoSoCcMpsbTq",
        "outputId": "788d97f7-36e4-49b1-b70e-a0d3c0d31631"
      },
      "outputs": [
        {
          "output_type": "stream",
          "name": "stdout",
          "text": [
            "\u001b[1m3571/3571\u001b[0m \u001b[32m━━━━━━━━━━━━━━━━━━━━\u001b[0m\u001b[37m\u001b[0m \u001b[1m81s\u001b[0m 23ms/step - accuracy: 0.2597 - loss: nan\n",
            "\n",
            "Train loss: nan\n",
            "Train Accuracy: 26.56 %\n"
          ]
        }
      ],
      "source": [
        "# Evaluate the Model on Train Data   ======>9-8-2023\n",
        "valid_loss, valid_accuracy = res_model.evaluate(validation_generator)\n",
        "\n",
        "print(f'\\nTrain loss: {valid_loss:.2f}')\n",
        "print(f'Train Accuracy: {valid_accuracy*100:.2f} %')"
      ]
    },
    {
      "cell_type": "code",
      "execution_count": null,
      "metadata": {
        "id": "rv1j-o5NxqmO"
      },
      "outputs": [],
      "source": []
    },
    {
      "cell_type": "code",
      "execution_count": null,
      "metadata": {
        "colab": {
          "base_uri": "https://localhost:8080/",
          "height": 635
        },
        "id": "7BWURBJnseyE",
        "outputId": "bb6b263a-566b-4a36-900f-5537fde22059"
      },
      "outputs": [
        {
          "output_type": "execute_result",
          "data": {
            "text/plain": [
              "\"\\n# Compute and Plot ROC Curves\\ny_true = test_generator.classes\\ny_pred = res_model.predict(test_generator)\\nfpr = dict()\\ntpr = dict()\\nroc_auc = dict()\\nfor i in range(4):\\n    fpr[i], tpr[i], _ = roc_curve(y_true[:, i], y_pred[:, i])\\n    roc_auc[i] = auc(fpr[i], tpr[i])\\n\\nplt.subplot(1, 2, 2)\\nplt.plot([0, 1], [0, 1], 'k--')\\nfor i in range(4):\\n    plt.plot(fpr[i], tpr[i], label=f'Class {i} (AUC = {roc_auc[i]:.2f})')\\nplt.xlabel('False Positive Rate')\\nplt.ylabel('True Positive Rate')\\nplt.title('ROC Curves')\\nplt.legend()\\n\\nplt.tight_layout()\\nplt.show()\\n\""
            ],
            "application/vnd.google.colaboratory.intrinsic+json": {
              "type": "string"
            }
          },
          "metadata": {},
          "execution_count": 36
        },
        {
          "output_type": "display_data",
          "data": {
            "text/plain": [
              "<Figure size 1200x600 with 1 Axes>"
            ],
            "image/png": "[encoded data removed]"
          },
          "metadata": {}
        }
      ],
      "source": [
        "# Metrics Visualization    =====>9-8-2023\n",
        "plt.figure(figsize=(12, 6))\n",
        "plt.subplot(1, 2, 1)\n",
        "plt.plot(history.history['accuracy'], label='Training Accuracy')\n",
        "plt.plot(history.history['val_accuracy'], label='Validation Accuracy')\n",
        "plt.xlabel('Epochs')\n",
        "plt.ylabel('Accuracy')\n",
        "plt.title('Training and Validation Accuracy')\n",
        "plt.legend()\n",
        "'''\n",
        "# Compute and Plot ROC Curves\n",
        "y_true = test_generator.classes\n",
        "y_pred = res_model.predict(test_generator)\n",
        "fpr = dict()\n",
        "tpr = dict()\n",
        "roc_auc = dict()\n",
        "for i in range(4):\n",
        "    fpr[i], tpr[i], _ = roc_curve(y_true[:, i], y_pred[:, i])\n",
        "    roc_auc[i] = auc(fpr[i], tpr[i])\n",
        "\n",
        "plt.subplot(1, 2, 2)\n",
        "plt.plot([0, 1], [0, 1], 'k--')\n",
        "for i in range(4):\n",
        "    plt.plot(fpr[i], tpr[i], label=f'Class {i} (AUC = {roc_auc[i]:.2f})')\n",
        "plt.xlabel('False Positive Rate')\n",
        "plt.ylabel('True Positive Rate')\n",
        "plt.title('ROC Curves')\n",
        "plt.legend()\n",
        "\n",
        "plt.tight_layout()\n",
        "plt.show()\n",
        "'''"
      ]
    },
    {
      "cell_type": "code",
      "execution_count": null,
      "metadata": {
        "colab": {
          "base_uri": "https://localhost:8080/"
        },
        "id": "dPEL81JZhD37",
        "outputId": "94aabb0e-e2d6-4b5a-d977-33a71f32f25e"
      },
      "outputs": [
        {
          "output_type": "stream",
          "name": "stderr",
          "text": [
            "WARNING:absl:You are saving your model as an HDF5 file via `model.save()` or `keras.saving.save_model(model)`. This file format is considered legacy. We recommend using instead the native Keras format, e.g. `model.save('my_model.keras')` or `keras.saving.save_model(model, 'my_model.keras')`. \n"
          ]
        }
      ],
      "source": [
        "res_model.save('Resnet_model.h5')"
      ]
    },
    {
      "cell_type": "code",
      "execution_count": null,
      "metadata": {
        "colab": {
          "base_uri": "https://localhost:8080/"
        },
        "id": "sgoERQOxhHG8",
        "outputId": "05e36de3-eccd-425c-c1a7-afa763af15eb"
      },
      "outputs": [
        {
          "output_type": "stream",
          "name": "stdout",
          "text": [
            "  adding: Resnet_model.h5 (deflated 98%)\n"
          ]
        }
      ],
      "source": [
        "!zip -r dowinloadme.zip Resnet_model.h5"
      ]
    }
  ],
  "metadata": {
    "colab": {
      "provenance": [],
      "gpuType": "T4"
    },
    "kernelspec": {
      "display_name": "Python 3",
      "name": "python3"
    },
    "language_info": {
      "name": "python"
    },
    "accelerator": "GPU"
  },
  "nbformat": 4,
  "nbformat_minor": 0
}